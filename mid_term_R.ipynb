{
  "nbformat": 4,
  "nbformat_minor": 0,
  "metadata": {
    "colab": {
      "name": "Untitled2.ipynb",
      "provenance": [],
      "authorship_tag": "ABX9TyPKfAtHf3/a5K31r/hiFezC",
      "include_colab_link": true
    },
    "kernelspec": {
      "name": "ir",
      "display_name": "R"
    }
  },
  "cells": [
    {
      "cell_type": "markdown",
      "metadata": {
        "id": "view-in-github",
        "colab_type": "text"
      },
      "source": [
        "<a href=\"https://colab.research.google.com/github/chemineer/Python-and-R/blob/main/mid_term_R.ipynb\" target=\"_parent\"><img src=\"https://colab.research.google.com/assets/colab-badge.svg\" alt=\"Open In Colab\"/></a>"
      ]
    },
    {
      "cell_type": "markdown",
      "metadata": {
        "id": "p5yjv2SyEkCz"
      },
      "source": [
        "2-4 R을 이용하여 “Hello R!”을 인쇄하는 프로그램을 작성하여 D:\\lang\\R\\hello.R이라는 파일로 저장하였다. 이 파일을 R에서 실행하려면 어떻게 할 것인지 과정을 설명하시오."
      ]
    },
    {
      "cell_type": "code",
      "metadata": {
        "colab": {
          "base_uri": "https://localhost:8080/"
        },
        "id": "AZuIRI4DElrP",
        "outputId": "60622115-7335-47a4-a9d4-372b2f6d18cd"
      },
      "source": [
        "print('Hello R!')"
      ],
      "execution_count": 6,
      "outputs": [
        {
          "output_type": "stream",
          "text": [
            "[1] \"Hello R!\"\n"
          ],
          "name": "stdout"
        }
      ]
    },
    {
      "cell_type": "markdown",
      "metadata": {
        "id": "KbjQm1B-ErIl"
      },
      "source": [
        "[실행방법] \n",
        "\n",
        "R에서 source('D:/lang/R/hello.r')실행"
      ]
    },
    {
      "cell_type": "markdown",
      "metadata": {
        "id": "wKPhShHEEISW"
      },
      "source": [
        "3-1 R을 사용하여 다음의 자료로 3개의 열을 갖는 데이터프레임을 만드시오 (이 때 각 변수의 이름은 name,height,weight로 한다) 이 자료에서 첫번째 사람 kim의 키와 몸무게 두 값(이름 제외)만 배열로 추출하시오 X1 <- c(‘kim’, ‘lee’, ‘park’) X2 <- c(170,160,180) X3 <- c(60,55,75)"
      ]
    },
    {
      "cell_type": "code",
      "metadata": {
        "colab": {
          "base_uri": "https://localhost:8080/"
        },
        "id": "lP3TYceLDtIb",
        "outputId": "11f9b29d-9f43-4475-abf3-49251601e3ea"
      },
      "source": [
        "x1 <- c('kim', 'lee', 'park')\n",
        "x2 <- c(170, 160, 180)\n",
        "x3 <- c(60, 55, 75)\n",
        "\n",
        "df <- data.frame(name=x1,height=x2,weight=x3)\n",
        "arr_m <- array(df[1,2:3])\n",
        "print(df)\n",
        "print(arr_m)"
      ],
      "execution_count": 5,
      "outputs": [
        {
          "output_type": "stream",
          "text": [
            "  name height weight\n",
            "1  kim    170     60\n",
            "2  lee    160     55\n",
            "3 park    180     75\n",
            "        \n",
            "1 170 60\n"
          ],
          "name": "stdout"
        }
      ]
    }
  ]
}