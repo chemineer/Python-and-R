{
  "nbformat": 4,
  "nbformat_minor": 0,
  "metadata": {
    "colab": {
      "name": "Untitled1.ipynb",
      "provenance": [],
      "authorship_tag": "ABX9TyPtpMAum1+wkkYJd91WbjXV",
      "include_colab_link": true
    },
    "kernelspec": {
      "name": "python3",
      "display_name": "Python 3"
    }
  },
  "cells": [
    {
      "cell_type": "markdown",
      "metadata": {
        "id": "view-in-github",
        "colab_type": "text"
      },
      "source": [
        "<a href=\"https://colab.research.google.com/github/chemineer/Python-and-R/blob/main/mid_term.ipynb\" target=\"_parent\"><img src=\"https://colab.research.google.com/assets/colab-badge.svg\" alt=\"Open In Colab\"/></a>"
      ]
    },
    {
      "cell_type": "markdown",
      "metadata": {
        "id": "d4tcF7IDBErl"
      },
      "source": [
        "2-3 파이썬을 이용하여 “Hello Python!”을 인쇄하는 프로그램을 작성하여 D:\\lang\\python\\hello.py라는 파일로 저장하고 이 파일을 아나콘다 프롬프트를 통하여 실행하려면 어떻게 할 것인지 과정을 설명하시오."
      ]
    },
    {
      "cell_type": "code",
      "metadata": {
        "id": "xyYs_Hy18HlH",
        "colab": {
          "base_uri": "https://localhost:8080/"
        },
        "outputId": "2c223b0d-6652-4e3b-e393-4fb8539ec214"
      },
      "source": [
        "print('Hello Python!')\n"
      ],
      "execution_count": 1,
      "outputs": [
        {
          "output_type": "stream",
          "text": [
            "Hello Python!\n"
          ],
          "name": "stdout"
        }
      ]
    },
    {
      "cell_type": "markdown",
      "metadata": {
        "id": "91AdBQ3ABR61"
      },
      "source": [
        "[실행방법]\n",
        "1. 아나콘다 프롬프트에서 D:/lang/python 폴더로 이동하여 python hello.py 실행\n",
        "2. 폴더를 이동하는 대신 python D:/lang/python/ hello.py 실행\n"
      ]
    },
    {
      "cell_type": "markdown",
      "metadata": {
        "id": "-vv-BHdQBZrb"
      },
      "source": [
        "2-4  R을 이용하여 “Hello R!”을 인쇄하는 프로그램을 작성하여 D:\\lang\\R\\hello.R이라는 파일로 저장하였다. 이 파일을 R에서 실행하려면 어떻게 할 것인지 과정을 설명하시오."
      ]
    },
    {
      "cell_type": "code",
      "metadata": {
        "colab": {
          "base_uri": "https://localhost:8080/"
        },
        "id": "M98tsRb3Bf1u",
        "outputId": "26d7db9e-0d76-4a52-ce5c-f08d43707cbe"
      },
      "source": [
        "print('Hello R!')"
      ],
      "execution_count": 2,
      "outputs": [
        {
          "output_type": "stream",
          "text": [
            "Hello R!\n"
          ],
          "name": "stdout"
        }
      ]
    },
    {
      "cell_type": "markdown",
      "metadata": {
        "id": "_5BAipkUBn6i"
      },
      "source": [
        "[실행방법]\n",
        "R에서 source('D:/lang/R/hello.r')실행\n"
      ]
    },
    {
      "cell_type": "markdown",
      "metadata": {
        "id": "wdLXbUeLB2ks"
      },
      "source": [
        "3-1 R을 사용하여 다음의 자료로 3개의 열을 갖는 데이터프레임을 만드시오 (이 때 각 변수의 이름은 name,height,weight로 한다) 이 자료에서 첫번째 사람 kim의 키와 몸무게 두 값(이름 제외)만 배열로 추출하시오\n",
        "X1 <- c(‘kim’, ‘lee’, ‘park’)\n",
        "X2 <- c(170,160,180)\n",
        "X3 <- c(60,55,75)\n"
      ]
    },
    {
      "cell_type": "code",
      "metadata": {
        "colab": {
          "base_uri": "https://localhost:8080/",
          "height": 239
        },
        "id": "TysEe0CMB6_5",
        "outputId": "5b75e016-40a8-4ae9-d550-d5372d2b0175"
      },
      "source": [
        "x1 <- c('kim', 'lee', 'park')\n",
        "x2 <- c(170, 160, 180)\n",
        "x3 <- c(60, 55, 75)\n",
        "\n",
        "df <- data.frame(name=x1,height=x2,weight=x3)\n",
        "arr_m <- array(df[1,2:3])\n"
      ],
      "execution_count": 3,
      "outputs": [
        {
          "output_type": "error",
          "ename": "NameError",
          "evalue": "ignored",
          "traceback": [
            "\u001b[0;31m---------------------------------------------------------------------------\u001b[0m",
            "\u001b[0;31mNameError\u001b[0m                                 Traceback (most recent call last)",
            "\u001b[0;32m<ipython-input-3-a317142a0293>\u001b[0m in \u001b[0;36m<module>\u001b[0;34m()\u001b[0m\n\u001b[0;32m----> 1\u001b[0;31m \u001b[0mx1\u001b[0m \u001b[0;34m<\u001b[0m\u001b[0;34m-\u001b[0m \u001b[0mc\u001b[0m\u001b[0;34m(\u001b[0m\u001b[0;34m'kim'\u001b[0m\u001b[0;34m,\u001b[0m \u001b[0;34m'lee'\u001b[0m\u001b[0;34m,\u001b[0m \u001b[0;34m'park'\u001b[0m\u001b[0;34m)\u001b[0m\u001b[0;34m\u001b[0m\u001b[0;34m\u001b[0m\u001b[0m\n\u001b[0m\u001b[1;32m      2\u001b[0m \u001b[0mx2\u001b[0m \u001b[0;34m<\u001b[0m\u001b[0;34m-\u001b[0m \u001b[0mc\u001b[0m\u001b[0;34m(\u001b[0m\u001b[0;36m170\u001b[0m\u001b[0;34m,\u001b[0m \u001b[0;36m160\u001b[0m\u001b[0;34m,\u001b[0m \u001b[0;36m180\u001b[0m\u001b[0;34m)\u001b[0m\u001b[0;34m\u001b[0m\u001b[0;34m\u001b[0m\u001b[0m\n\u001b[1;32m      3\u001b[0m \u001b[0mx3\u001b[0m \u001b[0;34m<\u001b[0m\u001b[0;34m-\u001b[0m \u001b[0mc\u001b[0m\u001b[0;34m(\u001b[0m\u001b[0;36m60\u001b[0m\u001b[0;34m,\u001b[0m \u001b[0;36m55\u001b[0m\u001b[0;34m,\u001b[0m \u001b[0;36m75\u001b[0m\u001b[0;34m)\u001b[0m\u001b[0;34m\u001b[0m\u001b[0;34m\u001b[0m\u001b[0m\n\u001b[1;32m      4\u001b[0m \u001b[0;34m\u001b[0m\u001b[0m\n\u001b[1;32m      5\u001b[0m \u001b[0mdf\u001b[0m \u001b[0;34m<\u001b[0m\u001b[0;34m-\u001b[0m \u001b[0mdata\u001b[0m\u001b[0;34m.\u001b[0m\u001b[0mframe\u001b[0m\u001b[0;34m(\u001b[0m\u001b[0mname\u001b[0m\u001b[0;34m=\u001b[0m\u001b[0mx1\u001b[0m\u001b[0;34m,\u001b[0m\u001b[0mheight\u001b[0m\u001b[0;34m=\u001b[0m\u001b[0mx2\u001b[0m\u001b[0;34m,\u001b[0m\u001b[0mweight\u001b[0m\u001b[0;34m=\u001b[0m\u001b[0mx3\u001b[0m\u001b[0;34m)\u001b[0m\u001b[0;34m\u001b[0m\u001b[0;34m\u001b[0m\u001b[0m\n",
            "\u001b[0;31mNameError\u001b[0m: name 'x1' is not defined"
          ]
        }
      ]
    }
  ]
}