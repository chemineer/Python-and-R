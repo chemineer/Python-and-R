{
  "nbformat": 4,
  "nbformat_minor": 0,
  "metadata": {
    "colab": {
      "name": "Untitled1.ipynb",
      "provenance": [],
      "authorship_tag": "ABX9TyMEECc2Z+2euDpJoD8LA109",
      "include_colab_link": true
    },
    "kernelspec": {
      "name": "python3",
      "display_name": "Python 3"
    }
  },
  "cells": [
    {
      "cell_type": "markdown",
      "metadata": {
        "id": "view-in-github",
        "colab_type": "text"
      },
      "source": [
        "<a href=\"https://colab.research.google.com/github/chemineer/Python-and-R/blob/main/mid_term.ipynb\" target=\"_parent\"><img src=\"https://colab.research.google.com/assets/colab-badge.svg\" alt=\"Open In Colab\"/></a>"
      ]
    },
    {
      "cell_type": "markdown",
      "metadata": {
        "id": "d4tcF7IDBErl"
      },
      "source": [
        "2-3 파이썬을 이용하여 “Hello Python!”을 인쇄하는 프로그램을 작성하여 D:\\lang\\python\\hello.py라는 파일로 저장하고 이 파일을 아나콘다 프롬프트를 통하여 실행하려면 어떻게 할 것인지 과정을 설명하시오."
      ]
    },
    {
      "cell_type": "code",
      "metadata": {
        "id": "xyYs_Hy18HlH",
        "colab": {
          "base_uri": "https://localhost:8080/"
        },
        "outputId": "2c223b0d-6652-4e3b-e393-4fb8539ec214"
      },
      "source": [
        "print('Hello Python!')\n"
      ],
      "execution_count": null,
      "outputs": [
        {
          "output_type": "stream",
          "text": [
            "Hello Python!\n"
          ],
          "name": "stdout"
        }
      ]
    },
    {
      "cell_type": "markdown",
      "metadata": {
        "id": "91AdBQ3ABR61"
      },
      "source": [
        "[실행방법]\n",
        "1. 아나콘다 프롬프트에서 D:/lang/python 폴더로 이동하여 python hello.py 실행\n",
        "2. 폴더를 이동하는 대신 python D:/lang/python/ hello.py 실행\n"
      ]
    },
    {
      "cell_type": "markdown",
      "metadata": {
        "id": "oZiPP98yFiHu"
      },
      "source": [
        "3-2 x1,x2,x3를 다음과 같이 리스트로 정의한 후 이 3개의 리스트를 value로 갖는 파이썬 dictionary를 만드시오 (딕셔너리의 key값은 각각 name,height,weight로 한다) \n",
        "x1 = [‘kim’, ‘lee’, ‘park’]\n",
        "x2 = [170,160,180]\n",
        "x3 = [60,55,75]\n"
      ]
    },
    {
      "cell_type": "code",
      "metadata": {
        "colab": {
          "base_uri": "https://localhost:8080/"
        },
        "id": "vgkSu7DyFkLe",
        "outputId": "915db084-8f4b-4e3b-9530-c3fc28445996"
      },
      "source": [
        "x1 = ['kim', 'lee', 'park']\n",
        "x2 = [170,160,180]\n",
        "x3 = [60,55,75]\n",
        "\n",
        "dict={'name':x1, 'height':x2, 'weight':x3}\n",
        "print(dict)\n"
      ],
      "execution_count": 1,
      "outputs": [
        {
          "output_type": "stream",
          "text": [
            "{'name': ['kim', 'lee', 'park'], 'height': [170, 160, 180], 'weight': [60, 55, 75]}\n"
          ],
          "name": "stdout"
        }
      ]
    },
    {
      "cell_type": "markdown",
      "metadata": {
        "id": "dPguBEMhFz2w"
      },
      "source": [
        "3-3 위에서 만든 딕셔너리로 파이썬 데이터프레임을 만드시오. 이 데이터프레임에서 첫번째 사람 kim의 키와 몸무게 두 값(이름 제외)만 배열로 추출하시오."
      ]
    },
    {
      "cell_type": "code",
      "metadata": {
        "colab": {
          "base_uri": "https://localhost:8080/"
        },
        "id": "OiHGdhM9F3Mx",
        "outputId": "f9d0501f-069f-4b81-9ccb-4f861f349ea7"
      },
      "source": [
        "import pandas as pd\n",
        "import numpy as np\n",
        "\n",
        "x1 = ['kim', 'lee', 'park']\n",
        "x2 = [170,160,180]\n",
        "x3 = [60,55,75]\n",
        "\n",
        "dict={'name':x1, 'height':x2, 'weight':x3}\n",
        "df1=pd.DataFrame(data=dict)\n",
        "\n",
        "arr=np.array(df1.iloc[0,[1,2]])\n",
        "print(arr)\n"
      ],
      "execution_count": 2,
      "outputs": [
        {
          "output_type": "stream",
          "text": [
            "[170 60]\n"
          ],
          "name": "stdout"
        }
      ]
    },
    {
      "cell_type": "markdown",
      "metadata": {
        "id": "ccbBItpgGZa5"
      },
      "source": [
        "4-1 1부터 5 사이의 자연수의 값을 순서대로 인쇄하는 프로그램을 for문과 while문을 이용하여 파이썬으로 작성하시오"
      ]
    },
    {
      "cell_type": "markdown",
      "metadata": {
        "id": "n9K2wpbjGoud"
      },
      "source": [
        "4-4 숫자를 입력받아 이 숫자가 양수인지 음수인지 0인지 판단하여 출력해 주는 함수 mysign을 파이썬을 사용하여 작성하시오."
      ]
    },
    {
      "cell_type": "markdown",
      "metadata": {
        "id": "iYF0308RG7uA"
      },
      "source": [
        "4-7 주당 근무시간이 40시간 이내면 시간당 임금이 1만원이고 40시간이 초과되는 부분에 대해서는 1.5배를 지급하는 경우 주당 근무시간을 입력받으면 출력으로 임금이 계산되는 함수 mywage를 파이썬으로 작성하시오."
      ]
    }
  ]
}