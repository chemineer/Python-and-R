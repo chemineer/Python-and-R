{
  "nbformat": 4,
  "nbformat_minor": 0,
  "metadata": {
    "colab": {
      "name": "Untitled4.ipynb",
      "provenance": [],
      "authorship_tag": "ABX9TyPB28BoGWWjC+UmOHnwe80p",
      "include_colab_link": true
    },
    "kernelspec": {
      "name": "ir",
      "display_name": "R"
    }
  },
  "cells": [
    {
      "cell_type": "markdown",
      "metadata": {
        "id": "view-in-github",
        "colab_type": "text"
      },
      "source": [
        "<a href=\"https://colab.research.google.com/github/chemineer/Python-and-R/blob/main/Chap08_R.ipynb\" target=\"_parent\"><img src=\"https://colab.research.google.com/assets/colab-badge.svg\" alt=\"Open In Colab\"/></a>"
      ]
    },
    {
      "cell_type": "code",
      "metadata": {
        "colab": {
          "base_uri": "https://localhost:8080/",
          "height": 594
        },
        "id": "vyQ5YQTBY_Rc",
        "outputId": "42767e86-7d6d-4c03-e021-3fc75bf6b21c"
      },
      "source": [
        "score=read.csv('https://raw.githubusercontent.com/chemineer/Python-and-R/main/score.csv',header=T)\n",
        "head(score,3)\n",
        "dim(score)\n",
        "score$total=score$midterm + score$final\n",
        "head(score,3)\n",
        "sapply(score[,-c(1:2)],mean,na.rm=TRUE)\n",
        "sapply(score[,-c(1:2)],sd,na.rm=TRUE)\n",
        "summary(score[,-1])\n",
        "class(score$gender)\n",
        "class(score$midterm)\n",
        "fivenum(score$total)\n"
      ],
      "execution_count": null,
      "outputs": [
        {
          "output_type": "display_data",
          "data": {
            "text/plain": [
              "  id    gender midterm final\n",
              "1 13001 f      60      80   \n",
              "2 13003 m      90      72   \n",
              "3 13013 m      76      85   "
            ],
            "text/latex": "A data.frame: 3 × 4\n\\begin{tabular}{r|llll}\n  & id & gender & midterm & final\\\\\n  & <int> & <chr> & <int> & <int>\\\\\n\\hline\n\t1 & 13001 & f & 60 & 80\\\\\n\t2 & 13003 & m & 90 & 72\\\\\n\t3 & 13013 & m & 76 & 85\\\\\n\\end{tabular}\n",
            "text/markdown": "\nA data.frame: 3 × 4\n\n| <!--/--> | id &lt;int&gt; | gender &lt;chr&gt; | midterm &lt;int&gt; | final &lt;int&gt; |\n|---|---|---|---|---|\n| 1 | 13001 | f | 60 | 80 |\n| 2 | 13003 | m | 90 | 72 |\n| 3 | 13013 | m | 76 | 85 |\n\n",
            "text/html": [
              "<table>\n",
              "<caption>A data.frame: 3 × 4</caption>\n",
              "<thead>\n",
              "\t<tr><th></th><th scope=col>id</th><th scope=col>gender</th><th scope=col>midterm</th><th scope=col>final</th></tr>\n",
              "\t<tr><th></th><th scope=col>&lt;int&gt;</th><th scope=col>&lt;chr&gt;</th><th scope=col>&lt;int&gt;</th><th scope=col>&lt;int&gt;</th></tr>\n",
              "</thead>\n",
              "<tbody>\n",
              "\t<tr><th scope=row>1</th><td>13001</td><td>f</td><td>60</td><td>80</td></tr>\n",
              "\t<tr><th scope=row>2</th><td>13003</td><td>m</td><td>90</td><td>72</td></tr>\n",
              "\t<tr><th scope=row>3</th><td>13013</td><td>m</td><td>76</td><td>85</td></tr>\n",
              "</tbody>\n",
              "</table>\n"
            ]
          },
          "metadata": {
            "tags": []
          }
        },
        {
          "output_type": "display_data",
          "data": {
            "text/plain": [
              "[1] 89  4"
            ],
            "text/latex": "\\begin{enumerate*}\n\\item 89\n\\item 4\n\\end{enumerate*}\n",
            "text/markdown": "1. 89\n2. 4\n\n\n",
            "text/html": [
              "<style>\n",
              ".list-inline {list-style: none; margin:0; padding: 0}\n",
              ".list-inline>li {display: inline-block}\n",
              ".list-inline>li:not(:last-child)::after {content: \"\\00b7\"; padding: 0 .5ex}\n",
              "</style>\n",
              "<ol class=list-inline><li>89</li><li>4</li></ol>\n"
            ]
          },
          "metadata": {
            "tags": []
          }
        },
        {
          "output_type": "display_data",
          "data": {
            "text/plain": [
              "  id    gender midterm final total\n",
              "1 13001 f      60      80    140  \n",
              "2 13003 m      90      72    162  \n",
              "3 13013 m      76      85    161  "
            ],
            "text/latex": "A data.frame: 3 × 5\n\\begin{tabular}{r|lllll}\n  & id & gender & midterm & final & total\\\\\n  & <int> & <chr> & <int> & <int> & <int>\\\\\n\\hline\n\t1 & 13001 & f & 60 & 80 & 140\\\\\n\t2 & 13003 & m & 90 & 72 & 162\\\\\n\t3 & 13013 & m & 76 & 85 & 161\\\\\n\\end{tabular}\n",
            "text/markdown": "\nA data.frame: 3 × 5\n\n| <!--/--> | id &lt;int&gt; | gender &lt;chr&gt; | midterm &lt;int&gt; | final &lt;int&gt; | total &lt;int&gt; |\n|---|---|---|---|---|---|\n| 1 | 13001 | f | 60 | 80 | 140 |\n| 2 | 13003 | m | 90 | 72 | 162 |\n| 3 | 13013 | m | 76 | 85 | 161 |\n\n",
            "text/html": [
              "<table>\n",
              "<caption>A data.frame: 3 × 5</caption>\n",
              "<thead>\n",
              "\t<tr><th></th><th scope=col>id</th><th scope=col>gender</th><th scope=col>midterm</th><th scope=col>final</th><th scope=col>total</th></tr>\n",
              "\t<tr><th></th><th scope=col>&lt;int&gt;</th><th scope=col>&lt;chr&gt;</th><th scope=col>&lt;int&gt;</th><th scope=col>&lt;int&gt;</th><th scope=col>&lt;int&gt;</th></tr>\n",
              "</thead>\n",
              "<tbody>\n",
              "\t<tr><th scope=row>1</th><td>13001</td><td>f</td><td>60</td><td>80</td><td>140</td></tr>\n",
              "\t<tr><th scope=row>2</th><td>13003</td><td>m</td><td>90</td><td>72</td><td>162</td></tr>\n",
              "\t<tr><th scope=row>3</th><td>13013</td><td>m</td><td>76</td><td>85</td><td>161</td></tr>\n",
              "</tbody>\n",
              "</table>\n"
            ]
          },
          "metadata": {
            "tags": []
          }
        },
        {
          "output_type": "display_data",
          "data": {
            "text/plain": [
              "  midterm     final     total \n",
              " 66.89888  55.75281 122.65169 "
            ],
            "text/latex": "\\begin{description*}\n\\item[midterm] 66.8988764044944\n\\item[final] 55.752808988764\n\\item[total] 122.651685393258\n\\end{description*}\n",
            "text/markdown": "midterm\n:   66.8988764044944final\n:   55.752808988764total\n:   122.651685393258\n\n",
            "text/html": [
              "<style>\n",
              ".dl-inline {width: auto; margin:0; padding: 0}\n",
              ".dl-inline>dt, .dl-inline>dd {float: none; width: auto; display: inline-block}\n",
              ".dl-inline>dt::after {content: \":\\0020\"; padding-right: .5ex}\n",
              ".dl-inline>dt:not(:first-of-type) {padding-left: .5ex}\n",
              "</style><dl class=dl-inline><dt>midterm</dt><dd>66.8988764044944</dd><dt>final</dt><dd>55.752808988764</dd><dt>total</dt><dd>122.651685393258</dd></dl>\n"
            ]
          },
          "metadata": {
            "tags": []
          }
        },
        {
          "output_type": "display_data",
          "data": {
            "text/plain": [
              " midterm    final    total \n",
              "19.06034 24.08804 37.88232 "
            ],
            "text/latex": "\\begin{description*}\n\\item[midterm] 19.0603377723459\n\\item[final] 24.0880397042318\n\\item[total] 37.8823241114074\n\\end{description*}\n",
            "text/markdown": "midterm\n:   19.0603377723459final\n:   24.0880397042318total\n:   37.8823241114074\n\n",
            "text/html": [
              "<style>\n",
              ".dl-inline {width: auto; margin:0; padding: 0}\n",
              ".dl-inline>dt, .dl-inline>dd {float: none; width: auto; display: inline-block}\n",
              ".dl-inline>dt::after {content: \":\\0020\"; padding-right: .5ex}\n",
              ".dl-inline>dt:not(:first-of-type) {padding-left: .5ex}\n",
              "</style><dl class=dl-inline><dt>midterm</dt><dd>19.0603377723459</dd><dt>final</dt><dd>24.0880397042318</dd><dt>total</dt><dd>37.8823241114074</dd></dl>\n"
            ]
          },
          "metadata": {
            "tags": []
          }
        },
        {
          "output_type": "display_data",
          "data": {
            "text/plain": [
              "    gender             midterm          final           total      \n",
              " Length:89          Min.   : 22.0   Min.   : 0.00   Min.   : 35.0  \n",
              " Class :character   1st Qu.: 52.0   1st Qu.:40.00   1st Qu.: 99.0  \n",
              " Mode  :character   Median : 71.0   Median :55.00   Median :128.0  \n",
              "                    Mean   : 66.9   Mean   :55.75   Mean   :122.7  \n",
              "                    3rd Qu.: 82.0   3rd Qu.:75.00   3rd Qu.:154.0  \n",
              "                    Max.   :100.0   Max.   :93.00   Max.   :193.0  "
            ]
          },
          "metadata": {
            "tags": []
          }
        },
        {
          "output_type": "display_data",
          "data": {
            "text/plain": [
              "[1] \"character\""
            ],
            "text/latex": "'character'",
            "text/markdown": "'character'",
            "text/html": [
              "'character'"
            ]
          },
          "metadata": {
            "tags": []
          }
        },
        {
          "output_type": "display_data",
          "data": {
            "text/plain": [
              "[1] \"integer\""
            ],
            "text/latex": "'integer'",
            "text/markdown": "'integer'",
            "text/html": [
              "'integer'"
            ]
          },
          "metadata": {
            "tags": []
          }
        },
        {
          "output_type": "display_data",
          "data": {
            "text/plain": [
              "[1]  35  99 128 154 193"
            ],
            "text/latex": "\\begin{enumerate*}\n\\item 35\n\\item 99\n\\item 128\n\\item 154\n\\item 193\n\\end{enumerate*}\n",
            "text/markdown": "1. 35\n2. 99\n3. 128\n4. 154\n5. 193\n\n\n",
            "text/html": [
              "<style>\n",
              ".list-inline {list-style: none; margin:0; padding: 0}\n",
              ".list-inline>li {display: inline-block}\n",
              ".list-inline>li:not(:last-child)::after {content: \"\\00b7\"; padding: 0 .5ex}\n",
              "</style>\n",
              "<ol class=list-inline><li>35</li><li>99</li><li>128</li><li>154</li><li>193</li></ol>\n"
            ]
          },
          "metadata": {
            "tags": []
          }
        },
        {
          "output_type": "error",
          "ename": "ERROR",
          "evalue": "ignored",
          "traceback": [
            "Error in library(psych): there is no package called ‘psych’\nTraceback:\n",
            "1. library(psych)"
          ]
        }
      ]
    },
    {
      "cell_type": "code",
      "metadata": {
        "colab": {
          "base_uri": "https://localhost:8080/",
          "height": 258
        },
        "id": "J-_g7YWmcQ0S",
        "outputId": "428816c5-c490-4dc0-8841-5e581bf91ecc"
      },
      "source": [
        "install.packages('psych')\n",
        "library(psych)\n",
        "\n",
        "score=read.csv('https://raw.githubusercontent.com/chemineer/Python-and-R/main/score.csv',header=T)\n",
        "score$total=score$midterm + score$final\n",
        "\n",
        "describe(score[,-c(1:2)])\n",
        "Dscore=describe(score[,-c(1:2)])\n",
        "names(Dscore)\n",
        "\n"
      ],
      "execution_count": 3,
      "outputs": [
        {
          "output_type": "stream",
          "text": [
            "Installing package into ‘/usr/local/lib/R/site-library’\n",
            "(as ‘lib’ is unspecified)\n",
            "\n",
            "also installing the dependencies ‘tmvnsim’, ‘mnormt’\n",
            "\n",
            "\n"
          ],
          "name": "stderr"
        },
        {
          "output_type": "display_data",
          "data": {
            "text/plain": [
              "        vars n  mean      sd       median trimmed   mad     min max range\n",
              "midterm 1    89  66.89888 19.06034  71     67.84932 19.2738 22  100  78  \n",
              "final   2    89  55.75281 24.08804  55     57.45205 25.2042  0   93  93  \n",
              "total   3    89 122.65169 37.88232 128    124.76712 40.0302 35  193 158  \n",
              "        skew       kurtosis   se      \n",
              "midterm -0.3968489 -0.6559548 2.020392\n",
              "final   -0.5054800 -0.5121913 2.553327\n",
              "total   -0.4486563 -0.6932943 4.015518"
            ],
            "text/latex": "A psych: 3 × 13\n\\begin{tabular}{r|lllllllllllll}\n  & vars & n & mean & sd & median & trimmed & mad & min & max & range & skew & kurtosis & se\\\\\n  & <int> & <dbl> & <dbl> & <dbl> & <dbl> & <dbl> & <dbl> & <dbl> & <dbl> & <dbl> & <dbl> & <dbl> & <dbl>\\\\\n\\hline\n\tmidterm & 1 & 89 &  66.89888 & 19.06034 &  71 &  67.84932 & 19.2738 & 22 & 100 &  78 & -0.3968489 & -0.6559548 & 2.020392\\\\\n\tfinal & 2 & 89 &  55.75281 & 24.08804 &  55 &  57.45205 & 25.2042 &  0 &  93 &  93 & -0.5054800 & -0.5121913 & 2.553327\\\\\n\ttotal & 3 & 89 & 122.65169 & 37.88232 & 128 & 124.76712 & 40.0302 & 35 & 193 & 158 & -0.4486563 & -0.6932943 & 4.015518\\\\\n\\end{tabular}\n",
            "text/markdown": "\nA psych: 3 × 13\n\n| <!--/--> | vars &lt;int&gt; | n &lt;dbl&gt; | mean &lt;dbl&gt; | sd &lt;dbl&gt; | median &lt;dbl&gt; | trimmed &lt;dbl&gt; | mad &lt;dbl&gt; | min &lt;dbl&gt; | max &lt;dbl&gt; | range &lt;dbl&gt; | skew &lt;dbl&gt; | kurtosis &lt;dbl&gt; | se &lt;dbl&gt; |\n|---|---|---|---|---|---|---|---|---|---|---|---|---|---|\n| midterm | 1 | 89 |  66.89888 | 19.06034 |  71 |  67.84932 | 19.2738 | 22 | 100 |  78 | -0.3968489 | -0.6559548 | 2.020392 |\n| final | 2 | 89 |  55.75281 | 24.08804 |  55 |  57.45205 | 25.2042 |  0 |  93 |  93 | -0.5054800 | -0.5121913 | 2.553327 |\n| total | 3 | 89 | 122.65169 | 37.88232 | 128 | 124.76712 | 40.0302 | 35 | 193 | 158 | -0.4486563 | -0.6932943 | 4.015518 |\n\n",
            "text/html": [
              "<table>\n",
              "<caption>A psych: 3 × 13</caption>\n",
              "<thead>\n",
              "\t<tr><th></th><th scope=col>vars</th><th scope=col>n</th><th scope=col>mean</th><th scope=col>sd</th><th scope=col>median</th><th scope=col>trimmed</th><th scope=col>mad</th><th scope=col>min</th><th scope=col>max</th><th scope=col>range</th><th scope=col>skew</th><th scope=col>kurtosis</th><th scope=col>se</th></tr>\n",
              "\t<tr><th></th><th scope=col>&lt;int&gt;</th><th scope=col>&lt;dbl&gt;</th><th scope=col>&lt;dbl&gt;</th><th scope=col>&lt;dbl&gt;</th><th scope=col>&lt;dbl&gt;</th><th scope=col>&lt;dbl&gt;</th><th scope=col>&lt;dbl&gt;</th><th scope=col>&lt;dbl&gt;</th><th scope=col>&lt;dbl&gt;</th><th scope=col>&lt;dbl&gt;</th><th scope=col>&lt;dbl&gt;</th><th scope=col>&lt;dbl&gt;</th><th scope=col>&lt;dbl&gt;</th></tr>\n",
              "</thead>\n",
              "<tbody>\n",
              "\t<tr><th scope=row>midterm</th><td>1</td><td>89</td><td> 66.89888</td><td>19.06034</td><td> 71</td><td> 67.84932</td><td>19.2738</td><td>22</td><td>100</td><td> 78</td><td>-0.3968489</td><td>-0.6559548</td><td>2.020392</td></tr>\n",
              "\t<tr><th scope=row>final</th><td>2</td><td>89</td><td> 55.75281</td><td>24.08804</td><td> 55</td><td> 57.45205</td><td>25.2042</td><td> 0</td><td> 93</td><td> 93</td><td>-0.5054800</td><td>-0.5121913</td><td>2.553327</td></tr>\n",
              "\t<tr><th scope=row>total</th><td>3</td><td>89</td><td>122.65169</td><td>37.88232</td><td>128</td><td>124.76712</td><td>40.0302</td><td>35</td><td>193</td><td>158</td><td>-0.4486563</td><td>-0.6932943</td><td>4.015518</td></tr>\n",
              "</tbody>\n",
              "</table>\n"
            ]
          },
          "metadata": {
            "tags": []
          }
        },
        {
          "output_type": "display_data",
          "data": {
            "text/plain": [
              " [1] \"vars\"     \"n\"        \"mean\"     \"sd\"       \"median\"   \"trimmed\" \n",
              " [7] \"mad\"      \"min\"      \"max\"      \"range\"    \"skew\"     \"kurtosis\"\n",
              "[13] \"se\"      "
            ],
            "text/latex": "\\begin{enumerate*}\n\\item 'vars'\n\\item 'n'\n\\item 'mean'\n\\item 'sd'\n\\item 'median'\n\\item 'trimmed'\n\\item 'mad'\n\\item 'min'\n\\item 'max'\n\\item 'range'\n\\item 'skew'\n\\item 'kurtosis'\n\\item 'se'\n\\end{enumerate*}\n",
            "text/markdown": "1. 'vars'\n2. 'n'\n3. 'mean'\n4. 'sd'\n5. 'median'\n6. 'trimmed'\n7. 'mad'\n8. 'min'\n9. 'max'\n10. 'range'\n11. 'skew'\n12. 'kurtosis'\n13. 'se'\n\n\n",
            "text/html": [
              "<style>\n",
              ".list-inline {list-style: none; margin:0; padding: 0}\n",
              ".list-inline>li {display: inline-block}\n",
              ".list-inline>li:not(:last-child)::after {content: \"\\00b7\"; padding: 0 .5ex}\n",
              "</style>\n",
              "<ol class=list-inline><li>'vars'</li><li>'n'</li><li>'mean'</li><li>'sd'</li><li>'median'</li><li>'trimmed'</li><li>'mad'</li><li>'min'</li><li>'max'</li><li>'range'</li><li>'skew'</li><li>'kurtosis'</li><li>'se'</li></ol>\n"
            ]
          },
          "metadata": {
            "tags": []
          }
        }
      ]
    },
    {
      "cell_type": "code",
      "metadata": {
        "colab": {
          "base_uri": "https://localhost:8080/",
          "height": 875
        },
        "id": "x2uQT5-RiHhQ",
        "outputId": "d77a6a76-97e2-41c8-9e47-f489fd489b7f"
      },
      "source": [
        "score=read.csv('https://raw.githubusercontent.com/chemineer/Python-and-R/main/score.csv',header=T)\n",
        "score$total=score$midterm + score$final\n",
        "\n",
        "head(score,3)\n",
        "tapply(score$total, score$gender, mean)\n",
        "tapply(score$total, score$gender, sd)\n",
        "tapply(score$total, score$gender, length)\n",
        "\n",
        "xbar=tapply(score$total, score$gender, mean)\n",
        "s=tapply(score$total, score$gender, sd)\n",
        "n=tapply(score$total, score$gender, length)\n",
        "cbind(mean=xbar, stdev=s, n=n)\n",
        "\n",
        "aggregate(score[c(\"midterm\",\"final\",\"total\")], list(gender=score$gender),mean)\n",
        "aggregate(score[c(\"midterm\",\"final\",\"total\")], list(gender=score$gender),sd)\n",
        "aggregate(score[c(\"midterm\",\"final\",\"total\")], list(gender=score$gender),length)\n",
        "\n",
        "by(score[,3:5],score$gender,summary)"
      ],
      "execution_count": 6,
      "outputs": [
        {
          "output_type": "display_data",
          "data": {
            "text/plain": [
              "  id    gender midterm final total\n",
              "1 13001 f      60      80    140  \n",
              "2 13003 m      90      72    162  \n",
              "3 13013 m      76      85    161  "
            ],
            "text/latex": "A data.frame: 3 × 5\n\\begin{tabular}{r|lllll}\n  & id & gender & midterm & final & total\\\\\n  & <int> & <chr> & <int> & <int> & <int>\\\\\n\\hline\n\t1 & 13001 & f & 60 & 80 & 140\\\\\n\t2 & 13003 & m & 90 & 72 & 162\\\\\n\t3 & 13013 & m & 76 & 85 & 161\\\\\n\\end{tabular}\n",
            "text/markdown": "\nA data.frame: 3 × 5\n\n| <!--/--> | id &lt;int&gt; | gender &lt;chr&gt; | midterm &lt;int&gt; | final &lt;int&gt; | total &lt;int&gt; |\n|---|---|---|---|---|---|\n| 1 | 13001 | f | 60 | 80 | 140 |\n| 2 | 13003 | m | 90 | 72 | 162 |\n| 3 | 13013 | m | 76 | 85 | 161 |\n\n",
            "text/html": [
              "<table>\n",
              "<caption>A data.frame: 3 × 5</caption>\n",
              "<thead>\n",
              "\t<tr><th></th><th scope=col>id</th><th scope=col>gender</th><th scope=col>midterm</th><th scope=col>final</th><th scope=col>total</th></tr>\n",
              "\t<tr><th></th><th scope=col>&lt;int&gt;</th><th scope=col>&lt;chr&gt;</th><th scope=col>&lt;int&gt;</th><th scope=col>&lt;int&gt;</th><th scope=col>&lt;int&gt;</th></tr>\n",
              "</thead>\n",
              "<tbody>\n",
              "\t<tr><th scope=row>1</th><td>13001</td><td>f</td><td>60</td><td>80</td><td>140</td></tr>\n",
              "\t<tr><th scope=row>2</th><td>13003</td><td>m</td><td>90</td><td>72</td><td>162</td></tr>\n",
              "\t<tr><th scope=row>3</th><td>13013</td><td>m</td><td>76</td><td>85</td><td>161</td></tr>\n",
              "</tbody>\n",
              "</table>\n"
            ]
          },
          "metadata": {
            "tags": []
          }
        },
        {
          "output_type": "display_data",
          "data": {
            "text/plain": [
              "       f        m \n",
              "122.7714 122.5741 "
            ],
            "text/latex": "\\begin{description*}\n\\item[f] 122.771428571429\n\\item[m] 122.574074074074\n\\end{description*}\n",
            "text/markdown": "f\n:   122.771428571429m\n:   122.574074074074\n\n",
            "text/html": [
              "<style>\n",
              ".dl-inline {width: auto; margin:0; padding: 0}\n",
              ".dl-inline>dt, .dl-inline>dd {float: none; width: auto; display: inline-block}\n",
              ".dl-inline>dt::after {content: \":\\0020\"; padding-right: .5ex}\n",
              ".dl-inline>dt:not(:first-of-type) {padding-left: .5ex}\n",
              "</style><dl class=dl-inline><dt>f</dt><dd>122.771428571429</dd><dt>m</dt><dd>122.574074074074</dd></dl>\n"
            ]
          },
          "metadata": {
            "tags": []
          }
        },
        {
          "output_type": "display_data",
          "data": {
            "text/plain": [
              "      f       m \n",
              "34.2955 40.3511 "
            ],
            "text/latex": "\\begin{description*}\n\\item[f] 34.2955028043772\n\\item[m] 40.3511014798347\n\\end{description*}\n",
            "text/markdown": "f\n:   34.2955028043772m\n:   40.3511014798347\n\n",
            "text/html": [
              "<style>\n",
              ".dl-inline {width: auto; margin:0; padding: 0}\n",
              ".dl-inline>dt, .dl-inline>dd {float: none; width: auto; display: inline-block}\n",
              ".dl-inline>dt::after {content: \":\\0020\"; padding-right: .5ex}\n",
              ".dl-inline>dt:not(:first-of-type) {padding-left: .5ex}\n",
              "</style><dl class=dl-inline><dt>f</dt><dd>34.2955028043772</dd><dt>m</dt><dd>40.3511014798347</dd></dl>\n"
            ]
          },
          "metadata": {
            "tags": []
          }
        },
        {
          "output_type": "display_data",
          "data": {
            "text/plain": [
              " f  m \n",
              "35 54 "
            ],
            "text/latex": "\\begin{description*}\n\\item[f] 35\n\\item[m] 54\n\\end{description*}\n",
            "text/markdown": "f\n:   35m\n:   54\n\n",
            "text/html": [
              "<style>\n",
              ".dl-inline {width: auto; margin:0; padding: 0}\n",
              ".dl-inline>dt, .dl-inline>dd {float: none; width: auto; display: inline-block}\n",
              ".dl-inline>dt::after {content: \":\\0020\"; padding-right: .5ex}\n",
              ".dl-inline>dt:not(:first-of-type) {padding-left: .5ex}\n",
              "</style><dl class=dl-inline><dt>f</dt><dd>35</dd><dt>m</dt><dd>54</dd></dl>\n"
            ]
          },
          "metadata": {
            "tags": []
          }
        },
        {
          "output_type": "display_data",
          "data": {
            "text/plain": [
              "  mean     stdev   n \n",
              "f 122.7714 34.2955 35\n",
              "m 122.5741 40.3511 54"
            ],
            "text/latex": "A matrix: 2 × 3 of type dbl\n\\begin{tabular}{r|lll}\n  & mean & stdev & n\\\\\n\\hline\n\tf & 122.7714 & 34.2955 & 35\\\\\n\tm & 122.5741 & 40.3511 & 54\\\\\n\\end{tabular}\n",
            "text/markdown": "\nA matrix: 2 × 3 of type dbl\n\n| <!--/--> | mean | stdev | n |\n|---|---|---|---|\n| f | 122.7714 | 34.2955 | 35 |\n| m | 122.5741 | 40.3511 | 54 |\n\n",
            "text/html": [
              "<table>\n",
              "<caption>A matrix: 2 × 3 of type dbl</caption>\n",
              "<thead>\n",
              "\t<tr><th></th><th scope=col>mean</th><th scope=col>stdev</th><th scope=col>n</th></tr>\n",
              "</thead>\n",
              "<tbody>\n",
              "\t<tr><th scope=row>f</th><td>122.7714</td><td>34.2955</td><td>35</td></tr>\n",
              "\t<tr><th scope=row>m</th><td>122.5741</td><td>40.3511</td><td>54</td></tr>\n",
              "</tbody>\n",
              "</table>\n"
            ]
          },
          "metadata": {
            "tags": []
          }
        },
        {
          "output_type": "display_data",
          "data": {
            "text/plain": [
              "  gender midterm  final    total   \n",
              "1 f      65.57143 57.20000 122.7714\n",
              "2 m      67.75926 54.81481 122.5741"
            ],
            "text/latex": "A data.frame: 2 × 4\n\\begin{tabular}{llll}\n gender & midterm & final & total\\\\\n <chr> & <dbl> & <dbl> & <dbl>\\\\\n\\hline\n\t f & 65.57143 & 57.20000 & 122.7714\\\\\n\t m & 67.75926 & 54.81481 & 122.5741\\\\\n\\end{tabular}\n",
            "text/markdown": "\nA data.frame: 2 × 4\n\n| gender &lt;chr&gt; | midterm &lt;dbl&gt; | final &lt;dbl&gt; | total &lt;dbl&gt; |\n|---|---|---|---|\n| f | 65.57143 | 57.20000 | 122.7714 |\n| m | 67.75926 | 54.81481 | 122.5741 |\n\n",
            "text/html": [
              "<table>\n",
              "<caption>A data.frame: 2 × 4</caption>\n",
              "<thead>\n",
              "\t<tr><th scope=col>gender</th><th scope=col>midterm</th><th scope=col>final</th><th scope=col>total</th></tr>\n",
              "\t<tr><th scope=col>&lt;chr&gt;</th><th scope=col>&lt;dbl&gt;</th><th scope=col>&lt;dbl&gt;</th><th scope=col>&lt;dbl&gt;</th></tr>\n",
              "</thead>\n",
              "<tbody>\n",
              "\t<tr><td>f</td><td>65.57143</td><td>57.20000</td><td>122.7714</td></tr>\n",
              "\t<tr><td>m</td><td>67.75926</td><td>54.81481</td><td>122.5741</td></tr>\n",
              "</tbody>\n",
              "</table>\n"
            ]
          },
          "metadata": {
            "tags": []
          }
        },
        {
          "output_type": "display_data",
          "data": {
            "text/plain": [
              "  gender midterm  final    total  \n",
              "1 f      16.37122 21.99305 34.2955\n",
              "2 m      20.72091 25.51143 40.3511"
            ],
            "text/latex": "A data.frame: 2 × 4\n\\begin{tabular}{llll}\n gender & midterm & final & total\\\\\n <chr> & <dbl> & <dbl> & <dbl>\\\\\n\\hline\n\t f & 16.37122 & 21.99305 & 34.2955\\\\\n\t m & 20.72091 & 25.51143 & 40.3511\\\\\n\\end{tabular}\n",
            "text/markdown": "\nA data.frame: 2 × 4\n\n| gender &lt;chr&gt; | midterm &lt;dbl&gt; | final &lt;dbl&gt; | total &lt;dbl&gt; |\n|---|---|---|---|\n| f | 16.37122 | 21.99305 | 34.2955 |\n| m | 20.72091 | 25.51143 | 40.3511 |\n\n",
            "text/html": [
              "<table>\n",
              "<caption>A data.frame: 2 × 4</caption>\n",
              "<thead>\n",
              "\t<tr><th scope=col>gender</th><th scope=col>midterm</th><th scope=col>final</th><th scope=col>total</th></tr>\n",
              "\t<tr><th scope=col>&lt;chr&gt;</th><th scope=col>&lt;dbl&gt;</th><th scope=col>&lt;dbl&gt;</th><th scope=col>&lt;dbl&gt;</th></tr>\n",
              "</thead>\n",
              "<tbody>\n",
              "\t<tr><td>f</td><td>16.37122</td><td>21.99305</td><td>34.2955</td></tr>\n",
              "\t<tr><td>m</td><td>20.72091</td><td>25.51143</td><td>40.3511</td></tr>\n",
              "</tbody>\n",
              "</table>\n"
            ]
          },
          "metadata": {
            "tags": []
          }
        },
        {
          "output_type": "display_data",
          "data": {
            "text/plain": [
              "  gender midterm final total\n",
              "1 f      35      35    35   \n",
              "2 m      54      54    54   "
            ],
            "text/latex": "A data.frame: 2 × 4\n\\begin{tabular}{llll}\n gender & midterm & final & total\\\\\n <chr> & <int> & <int> & <int>\\\\\n\\hline\n\t f & 35 & 35 & 35\\\\\n\t m & 54 & 54 & 54\\\\\n\\end{tabular}\n",
            "text/markdown": "\nA data.frame: 2 × 4\n\n| gender &lt;chr&gt; | midterm &lt;int&gt; | final &lt;int&gt; | total &lt;int&gt; |\n|---|---|---|---|\n| f | 35 | 35 | 35 |\n| m | 54 | 54 | 54 |\n\n",
            "text/html": [
              "<table>\n",
              "<caption>A data.frame: 2 × 4</caption>\n",
              "<thead>\n",
              "\t<tr><th scope=col>gender</th><th scope=col>midterm</th><th scope=col>final</th><th scope=col>total</th></tr>\n",
              "\t<tr><th scope=col>&lt;chr&gt;</th><th scope=col>&lt;int&gt;</th><th scope=col>&lt;int&gt;</th><th scope=col>&lt;int&gt;</th></tr>\n",
              "</thead>\n",
              "<tbody>\n",
              "\t<tr><td>f</td><td>35</td><td>35</td><td>35</td></tr>\n",
              "\t<tr><td>m</td><td>54</td><td>54</td><td>54</td></tr>\n",
              "</tbody>\n",
              "</table>\n"
            ]
          },
          "metadata": {
            "tags": []
          }
        },
        {
          "output_type": "display_data",
          "data": {
            "text/plain": [
              "score$gender: f\n",
              "    midterm           final          total      \n",
              " Min.   : 33.00   Min.   : 0.0   Min.   : 35.0  \n",
              " 1st Qu.: 52.50   1st Qu.:44.5   1st Qu.:102.5  \n",
              " Median : 64.00   Median :55.0   Median :122.0  \n",
              " Mean   : 65.57   Mean   :57.2   Mean   :122.8  \n",
              " 3rd Qu.: 76.50   3rd Qu.:76.5   3rd Qu.:152.0  \n",
              " Max.   :100.00   Max.   :89.0   Max.   :172.0  \n",
              "------------------------------------------------------------ \n",
              "score$gender: m\n",
              "    midterm           final           total      \n",
              " Min.   : 22.00   Min.   : 0.00   Min.   : 36.0  \n",
              " 1st Qu.: 50.50   1st Qu.:38.00   1st Qu.: 91.5  \n",
              " Median : 72.00   Median :56.00   Median :133.0  \n",
              " Mean   : 67.76   Mean   :54.81   Mean   :122.6  \n",
              " 3rd Qu.: 82.75   3rd Qu.:74.75   3rd Qu.:156.5  \n",
              " Max.   :100.00   Max.   :93.00   Max.   :193.0  "
            ]
          },
          "metadata": {
            "tags": []
          }
        }
      ]
    },
    {
      "cell_type": "code",
      "metadata": {
        "colab": {
          "base_uri": "https://localhost:8080/",
          "height": 686
        },
        "id": "9giWH2KjkOW7",
        "outputId": "df065764-9285-4720-c3a0-c4428bd0c1b9"
      },
      "source": [
        "install.packages('psych')\n",
        "library(psych)\n",
        "\n",
        "score=read.csv('https://raw.githubusercontent.com/chemineer/Python-and-R/main/score.csv',header=T)\n",
        "score$total=score$midterm + score$final\n",
        "\n",
        "describeBy(score[,c(3:5)],score$gender)\n",
        "\n"
      ],
      "execution_count": 8,
      "outputs": [
        {
          "output_type": "stream",
          "text": [
            "Installing package into ‘/usr/local/lib/R/site-library’\n",
            "(as ‘lib’ is unspecified)\n",
            "\n"
          ],
          "name": "stderr"
        },
        {
          "output_type": "display_data",
          "data": {
            "text/plain": [
              "\n",
              " Descriptive statistics by group \n",
              "group: f\n",
              "        vars  n   mean    sd median trimmed   mad min max range  skew kurtosis\n",
              "midterm    1 35  65.57 16.37     64   65.69 17.79  33 100    67  0.05    -0.76\n",
              "final      2 35  57.20 21.99     55   58.83 23.72   0  89    89 -0.60    -0.06\n",
              "total      3 35 122.77 34.30    122  125.24 38.55  35 172   137 -0.56    -0.47\n",
              "          se\n",
              "midterm 2.77\n",
              "final   3.72\n",
              "total   5.80\n",
              "------------------------------------------------------------ \n",
              "group: m\n",
              "        vars  n   mean    sd median trimmed   mad min max range  skew kurtosis\n",
              "midterm    1 54  67.76 20.72     72   69.09 19.27  22 100    78 -0.57    -0.72\n",
              "final      2 54  54.81 25.51     56   56.39 27.43   0  93    93 -0.42    -0.82\n",
              "total      3 54 122.57 40.35    133  124.50 42.25  36 193   157 -0.39    -0.90\n",
              "          se\n",
              "midterm 2.82\n",
              "final   3.47\n",
              "total   5.49"
            ]
          },
          "metadata": {
            "tags": []
          }
        },
        {
          "output_type": "stream",
          "text": [
            "\n",
            "  The decimal point is 1 digit(s) to the right of the |\n",
            "\n",
            "  0 | 004667\n",
            "  1 | 39\n",
            "  2 | 0116\n",
            "  3 | 1335688889\n",
            "  4 | 0044577889\n",
            "  5 | 00111222344558\n",
            "  6 | 023333445588\n",
            "  7 | 0001224556778\n",
            "  8 | 0001345667778999\n",
            "  9 | 13\n",
            "\n"
          ],
          "name": "stdout"
        }
      ]
    },
    {
      "cell_type": "code",
      "metadata": {
        "id": "CcWNkZ8hpaxY",
        "outputId": "33657c6a-2ce3-45ae-94c6-dd98082e40e4",
        "colab": {
          "base_uri": "https://localhost:8080/"
        }
      },
      "source": [
        "score=read.csv('https://raw.githubusercontent.com/chemineer/Python-and-R/main/score.csv',header=T)\n",
        "score$total=score$midterm + score$final\n",
        "\n",
        "stem(score$final)\n",
        "stem(score$total)\n",
        "stem(score$total,scale=2)"
      ],
      "execution_count": 11,
      "outputs": [
        {
          "output_type": "stream",
          "text": [
            "\n",
            "  The decimal point is 1 digit(s) to the right of the |\n",
            "\n",
            "  0 | 004667\n",
            "  1 | 39\n",
            "  2 | 0116\n",
            "  3 | 1335688889\n",
            "  4 | 0044577889\n",
            "  5 | 00111222344558\n",
            "  6 | 023333445588\n",
            "  7 | 0001224556778\n",
            "  8 | 0001345667778999\n",
            "  9 | 13\n",
            "\n",
            "\n",
            "  The decimal point is 1 digit(s) to the right of the |\n",
            "\n",
            "   2 | 56\n",
            "   4 | 32569\n",
            "   6 | 66602389\n",
            "   8 | 04590789\n",
            "  10 | 2335568811236689\n",
            "  12 | 12278892444567\n",
            "  14 | 0112266890222456778\n",
            "  16 | 012334556778237\n",
            "  18 | 93\n",
            "\n",
            "\n",
            "  The decimal point is 1 digit(s) to the right of the |\n",
            "\n",
            "   3 | 56\n",
            "   4 | 3\n",
            "   5 | 2569\n",
            "   6 | 666\n",
            "   7 | 02389\n",
            "   8 | 0459\n",
            "   9 | 0789\n",
            "  10 | 23355688\n",
            "  11 | 11236689\n",
            "  12 | 1227889\n",
            "  13 | 2444567\n",
            "  14 | 011226689\n",
            "  15 | 0222456778\n",
            "  16 | 012334556778\n",
            "  17 | 237\n",
            "  18 | 9\n",
            "  19 | 3\n",
            "\n"
          ],
          "name": "stdout"
        }
      ]
    },
    {
      "cell_type": "code",
      "metadata": {
        "id": "b5oxni_nqQrb",
        "outputId": "b5d725d1-ae2b-41ae-f525-bbc16d22a613",
        "colab": {
          "base_uri": "https://localhost:8080/",
          "height": 578
        }
      },
      "source": [
        "install.packages('aplpack')\n",
        "library(aplpack)\n",
        "\n",
        "score=read.csv('https://raw.githubusercontent.com/chemineer/Python-and-R/main/score.csv',header=T)\n",
        "score$total=score$midterm + score$final\n",
        "\n",
        "maleScore=score$total[score$gender==\"m\"]\n",
        "femaleScore=score$total[score$gender==\"f\"]\n",
        "stem.leaf.backback(maleScore,femaleScore)\n",
        "median(maleScore)\n",
        "median(femaleScore)\n"
      ],
      "execution_count": 12,
      "outputs": [
        {
          "output_type": "stream",
          "text": [
            "Installing package into ‘/usr/local/lib/R/site-library’\n",
            "(as ‘lib’ is unspecified)\n",
            "\n",
            "Warning message:\n",
            "“no DISPLAY variable so Tk is not available”\n"
          ],
          "name": "stderr"
        },
        {
          "output_type": "stream",
          "text": [
            "____________________________________\n",
            "  1 | 2: represents 12, leaf unit: 1 \n",
            "      maleScore      femaleScore\n",
            "____________________________________\n",
            "   1          6|  3 |5          1   \n",
            "   2          3|  4 |               \n",
            "   5        652|  5 |9          2   \n",
            "   7         66|  6 |6          3   \n",
            "  11       9820|  7 |3          4   \n",
            "  14        954|  8 |0          5   \n",
            "  15          9|  9 |078        8   \n",
            "  20      88653| 10 |235       11   \n",
            "  23        963| 11 |11268     16   \n",
            "  26        872| 12 |1289      (4)  \n",
            "  (7)   7654442| 13 |               \n",
            "  21      96622| 14 |0118      15   \n",
            "  16       8750| 15 |222467    11   \n",
            "  12   77654321| 16 |0358       5   \n",
            "   4         73| 17 |2          1   \n",
            "   2          9| 18 |               \n",
            "   1          3| 19 |               \n",
            "               | 20 |               \n",
            "____________________________________\n",
            "n:           54      35         \n",
            "____________________________________\n"
          ],
          "name": "stdout"
        },
        {
          "output_type": "display_data",
          "data": {
            "text/plain": [
              "[1] 133"
            ],
            "text/latex": "133",
            "text/markdown": "133",
            "text/html": [
              "133"
            ]
          },
          "metadata": {
            "tags": []
          }
        },
        {
          "output_type": "display_data",
          "data": {
            "text/plain": [
              "[1] 122"
            ],
            "text/latex": "122",
            "text/markdown": "122",
            "text/html": [
              "122"
            ]
          },
          "metadata": {
            "tags": []
          }
        }
      ]
    },
    {
      "cell_type": "code",
      "metadata": {
        "id": "9bSDLIJErfcn",
        "outputId": "c83a9795-d207-4f2c-9935-3e113e297aaf",
        "colab": {
          "base_uri": "https://localhost:8080/",
          "height": 857
        }
      },
      "source": [
        "score=read.csv('https://raw.githubusercontent.com/chemineer/Python-and-R/main/score.csv',header=T)\n",
        "score$total=score$midterm + score$final\n",
        "\n",
        "male.score=score$total[score$gender==\"m\"]\n",
        "female.score=score$total[score$gender==\"f\"]\n",
        "\n",
        "par(mfrow=c(1,2))\n",
        "boxplot(total~gender,data=score)\n",
        "title(\"boxplot:total~gender\")\n",
        "boxplot(female.score,male.score)\n",
        "title(\"boxplot:variables\")\n",
        "\n",
        "par(mfrow=c(2,1))\n",
        "hist(male.score)\n",
        "hist(female.score,col=\"grey\")"
      ],
      "execution_count": 16,
      "outputs": [
        {
          "output_type": "display_data",
          "data": {
            "image/png": "[encoded data removed]",
            "text/plain": [
              "Plot with title “boxplot:variables”"
            ]
          },
          "metadata": {
            "tags": [],
            "image/png": {
              "width": 420,
              "height": 420
            }
          }
        },
        {
          "output_type": "display_data",
          "data": {
            "image/png": "[encoded data removed]",
            "text/plain": [
              "Plot with title “Histogram of female.score”"
            ]
          },
          "metadata": {
            "tags": [],
            "image/png": {
              "width": 420,
              "height": 420
            }
          }
        }
      ]
    }
  ]
}