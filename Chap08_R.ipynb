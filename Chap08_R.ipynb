{
  "nbformat": 4,
  "nbformat_minor": 0,
  "metadata": {
    "colab": {
      "name": "Untitled4.ipynb",
      "provenance": [],
      "authorship_tag": "ABX9TyP2KcvKh/LY2sI06kWBnM24",
      "include_colab_link": true
    },
    "kernelspec": {
      "name": "ir",
      "display_name": "R"
    }
  },
  "cells": [
    {
      "cell_type": "markdown",
      "metadata": {
        "id": "view-in-github",
        "colab_type": "text"
      },
      "source": [
        "<a href=\"https://colab.research.google.com/github/chemineer/Python-and-R/blob/main/Chap08_R.ipynb\" target=\"_parent\"><img src=\"https://colab.research.google.com/assets/colab-badge.svg\" alt=\"Open In Colab\"/></a>"
      ]
    },
    {
      "cell_type": "code",
      "metadata": {
        "colab": {
          "base_uri": "https://localhost:8080/",
          "height": 594
        },
        "id": "vyQ5YQTBY_Rc",
        "outputId": "42767e86-7d6d-4c03-e021-3fc75bf6b21c"
      },
      "source": [
        "score=read.csv('https://raw.githubusercontent.com/chemineer/Python-and-R/main/score.csv',header=T)\n",
        "head(score,3)\n",
        "dim(score)\n",
        "score$total=score$midterm + score$final\n",
        "head(score,3)\n",
        "sapply(score[,-c(1:2)],mean,na.rm=TRUE)\n",
        "sapply(score[,-c(1:2)],sd,na.rm=TRUE)\n",
        "summary(score[,-1])\n",
        "class(score$gender)\n",
        "class(score$midterm)\n",
        "fivenum(score$total)\n"
      ],
      "execution_count": 6,
      "outputs": [
        {
          "output_type": "display_data",
          "data": {
            "text/plain": [
              "  id    gender midterm final\n",
              "1 13001 f      60      80   \n",
              "2 13003 m      90      72   \n",
              "3 13013 m      76      85   "
            ],
            "text/latex": "A data.frame: 3 × 4\n\\begin{tabular}{r|llll}\n  & id & gender & midterm & final\\\\\n  & <int> & <chr> & <int> & <int>\\\\\n\\hline\n\t1 & 13001 & f & 60 & 80\\\\\n\t2 & 13003 & m & 90 & 72\\\\\n\t3 & 13013 & m & 76 & 85\\\\\n\\end{tabular}\n",
            "text/markdown": "\nA data.frame: 3 × 4\n\n| <!--/--> | id &lt;int&gt; | gender &lt;chr&gt; | midterm &lt;int&gt; | final &lt;int&gt; |\n|---|---|---|---|---|\n| 1 | 13001 | f | 60 | 80 |\n| 2 | 13003 | m | 90 | 72 |\n| 3 | 13013 | m | 76 | 85 |\n\n",
            "text/html": [
              "<table>\n",
              "<caption>A data.frame: 3 × 4</caption>\n",
              "<thead>\n",
              "\t<tr><th></th><th scope=col>id</th><th scope=col>gender</th><th scope=col>midterm</th><th scope=col>final</th></tr>\n",
              "\t<tr><th></th><th scope=col>&lt;int&gt;</th><th scope=col>&lt;chr&gt;</th><th scope=col>&lt;int&gt;</th><th scope=col>&lt;int&gt;</th></tr>\n",
              "</thead>\n",
              "<tbody>\n",
              "\t<tr><th scope=row>1</th><td>13001</td><td>f</td><td>60</td><td>80</td></tr>\n",
              "\t<tr><th scope=row>2</th><td>13003</td><td>m</td><td>90</td><td>72</td></tr>\n",
              "\t<tr><th scope=row>3</th><td>13013</td><td>m</td><td>76</td><td>85</td></tr>\n",
              "</tbody>\n",
              "</table>\n"
            ]
          },
          "metadata": {
            "tags": []
          }
        },
        {
          "output_type": "display_data",
          "data": {
            "text/plain": [
              "[1] 89  4"
            ],
            "text/latex": "\\begin{enumerate*}\n\\item 89\n\\item 4\n\\end{enumerate*}\n",
            "text/markdown": "1. 89\n2. 4\n\n\n",
            "text/html": [
              "<style>\n",
              ".list-inline {list-style: none; margin:0; padding: 0}\n",
              ".list-inline>li {display: inline-block}\n",
              ".list-inline>li:not(:last-child)::after {content: \"\\00b7\"; padding: 0 .5ex}\n",
              "</style>\n",
              "<ol class=list-inline><li>89</li><li>4</li></ol>\n"
            ]
          },
          "metadata": {
            "tags": []
          }
        },
        {
          "output_type": "display_data",
          "data": {
            "text/plain": [
              "  id    gender midterm final total\n",
              "1 13001 f      60      80    140  \n",
              "2 13003 m      90      72    162  \n",
              "3 13013 m      76      85    161  "
            ],
            "text/latex": "A data.frame: 3 × 5\n\\begin{tabular}{r|lllll}\n  & id & gender & midterm & final & total\\\\\n  & <int> & <chr> & <int> & <int> & <int>\\\\\n\\hline\n\t1 & 13001 & f & 60 & 80 & 140\\\\\n\t2 & 13003 & m & 90 & 72 & 162\\\\\n\t3 & 13013 & m & 76 & 85 & 161\\\\\n\\end{tabular}\n",
            "text/markdown": "\nA data.frame: 3 × 5\n\n| <!--/--> | id &lt;int&gt; | gender &lt;chr&gt; | midterm &lt;int&gt; | final &lt;int&gt; | total &lt;int&gt; |\n|---|---|---|---|---|---|\n| 1 | 13001 | f | 60 | 80 | 140 |\n| 2 | 13003 | m | 90 | 72 | 162 |\n| 3 | 13013 | m | 76 | 85 | 161 |\n\n",
            "text/html": [
              "<table>\n",
              "<caption>A data.frame: 3 × 5</caption>\n",
              "<thead>\n",
              "\t<tr><th></th><th scope=col>id</th><th scope=col>gender</th><th scope=col>midterm</th><th scope=col>final</th><th scope=col>total</th></tr>\n",
              "\t<tr><th></th><th scope=col>&lt;int&gt;</th><th scope=col>&lt;chr&gt;</th><th scope=col>&lt;int&gt;</th><th scope=col>&lt;int&gt;</th><th scope=col>&lt;int&gt;</th></tr>\n",
              "</thead>\n",
              "<tbody>\n",
              "\t<tr><th scope=row>1</th><td>13001</td><td>f</td><td>60</td><td>80</td><td>140</td></tr>\n",
              "\t<tr><th scope=row>2</th><td>13003</td><td>m</td><td>90</td><td>72</td><td>162</td></tr>\n",
              "\t<tr><th scope=row>3</th><td>13013</td><td>m</td><td>76</td><td>85</td><td>161</td></tr>\n",
              "</tbody>\n",
              "</table>\n"
            ]
          },
          "metadata": {
            "tags": []
          }
        },
        {
          "output_type": "display_data",
          "data": {
            "text/plain": [
              "  midterm     final     total \n",
              " 66.89888  55.75281 122.65169 "
            ],
            "text/latex": "\\begin{description*}\n\\item[midterm] 66.8988764044944\n\\item[final] 55.752808988764\n\\item[total] 122.651685393258\n\\end{description*}\n",
            "text/markdown": "midterm\n:   66.8988764044944final\n:   55.752808988764total\n:   122.651685393258\n\n",
            "text/html": [
              "<style>\n",
              ".dl-inline {width: auto; margin:0; padding: 0}\n",
              ".dl-inline>dt, .dl-inline>dd {float: none; width: auto; display: inline-block}\n",
              ".dl-inline>dt::after {content: \":\\0020\"; padding-right: .5ex}\n",
              ".dl-inline>dt:not(:first-of-type) {padding-left: .5ex}\n",
              "</style><dl class=dl-inline><dt>midterm</dt><dd>66.8988764044944</dd><dt>final</dt><dd>55.752808988764</dd><dt>total</dt><dd>122.651685393258</dd></dl>\n"
            ]
          },
          "metadata": {
            "tags": []
          }
        },
        {
          "output_type": "display_data",
          "data": {
            "text/plain": [
              " midterm    final    total \n",
              "19.06034 24.08804 37.88232 "
            ],
            "text/latex": "\\begin{description*}\n\\item[midterm] 19.0603377723459\n\\item[final] 24.0880397042318\n\\item[total] 37.8823241114074\n\\end{description*}\n",
            "text/markdown": "midterm\n:   19.0603377723459final\n:   24.0880397042318total\n:   37.8823241114074\n\n",
            "text/html": [
              "<style>\n",
              ".dl-inline {width: auto; margin:0; padding: 0}\n",
              ".dl-inline>dt, .dl-inline>dd {float: none; width: auto; display: inline-block}\n",
              ".dl-inline>dt::after {content: \":\\0020\"; padding-right: .5ex}\n",
              ".dl-inline>dt:not(:first-of-type) {padding-left: .5ex}\n",
              "</style><dl class=dl-inline><dt>midterm</dt><dd>19.0603377723459</dd><dt>final</dt><dd>24.0880397042318</dd><dt>total</dt><dd>37.8823241114074</dd></dl>\n"
            ]
          },
          "metadata": {
            "tags": []
          }
        },
        {
          "output_type": "display_data",
          "data": {
            "text/plain": [
              "    gender             midterm          final           total      \n",
              " Length:89          Min.   : 22.0   Min.   : 0.00   Min.   : 35.0  \n",
              " Class :character   1st Qu.: 52.0   1st Qu.:40.00   1st Qu.: 99.0  \n",
              " Mode  :character   Median : 71.0   Median :55.00   Median :128.0  \n",
              "                    Mean   : 66.9   Mean   :55.75   Mean   :122.7  \n",
              "                    3rd Qu.: 82.0   3rd Qu.:75.00   3rd Qu.:154.0  \n",
              "                    Max.   :100.0   Max.   :93.00   Max.   :193.0  "
            ]
          },
          "metadata": {
            "tags": []
          }
        },
        {
          "output_type": "display_data",
          "data": {
            "text/plain": [
              "[1] \"character\""
            ],
            "text/latex": "'character'",
            "text/markdown": "'character'",
            "text/html": [
              "'character'"
            ]
          },
          "metadata": {
            "tags": []
          }
        },
        {
          "output_type": "display_data",
          "data": {
            "text/plain": [
              "[1] \"integer\""
            ],
            "text/latex": "'integer'",
            "text/markdown": "'integer'",
            "text/html": [
              "'integer'"
            ]
          },
          "metadata": {
            "tags": []
          }
        },
        {
          "output_type": "display_data",
          "data": {
            "text/plain": [
              "[1]  35  99 128 154 193"
            ],
            "text/latex": "\\begin{enumerate*}\n\\item 35\n\\item 99\n\\item 128\n\\item 154\n\\item 193\n\\end{enumerate*}\n",
            "text/markdown": "1. 35\n2. 99\n3. 128\n4. 154\n5. 193\n\n\n",
            "text/html": [
              "<style>\n",
              ".list-inline {list-style: none; margin:0; padding: 0}\n",
              ".list-inline>li {display: inline-block}\n",
              ".list-inline>li:not(:last-child)::after {content: \"\\00b7\"; padding: 0 .5ex}\n",
              "</style>\n",
              "<ol class=list-inline><li>35</li><li>99</li><li>128</li><li>154</li><li>193</li></ol>\n"
            ]
          },
          "metadata": {
            "tags": []
          }
        },
        {
          "output_type": "error",
          "ename": "ERROR",
          "evalue": "ignored",
          "traceback": [
            "Error in library(psych): there is no package called ‘psych’\nTraceback:\n",
            "1. library(psych)"
          ]
        }
      ]
    },
    {
      "cell_type": "code",
      "metadata": {
        "colab": {
          "base_uri": "https://localhost:8080/"
        },
        "id": "zwpMzYFBcnFS",
        "outputId": "b6dba4b3-4cde-4093-f33b-f40831787ff7"
      },
      "source": [
        "install.packages('psych')"
      ],
      "execution_count": 8,
      "outputs": [
        {
          "output_type": "stream",
          "text": [
            "Installing package into ‘/usr/local/lib/R/site-library’\n",
            "(as ‘lib’ is unspecified)\n",
            "\n",
            "also installing the dependencies ‘tmvnsim’, ‘mnormt’\n",
            "\n",
            "\n"
          ],
          "name": "stderr"
        }
      ]
    },
    {
      "cell_type": "code",
      "metadata": {
        "colab": {
          "base_uri": "https://localhost:8080/",
          "height": 152
        },
        "id": "J-_g7YWmcQ0S",
        "outputId": "e7d05673-887a-4731-8c8d-b0a0efb09b9d"
      },
      "source": [
        "library(psych)\n",
        "\n",
        "score=read.csv('https://raw.githubusercontent.com/chemineer/Python-and-R/main/score.csv',header=T)\n",
        "score$total=score$midterm + score$final\n",
        "\n",
        "describe(score[,-c(1:2)])\n",
        "Dscore=describe(score[,-c(1:2)])\n",
        "names(Dscore)"
      ],
      "execution_count": 10,
      "outputs": [
        {
          "output_type": "display_data",
          "data": {
            "text/plain": [
              "        vars n  mean      sd       median trimmed   mad     min max range\n",
              "midterm 1    89  66.89888 19.06034  71     67.84932 19.2738 22  100  78  \n",
              "final   2    89  55.75281 24.08804  55     57.45205 25.2042  0   93  93  \n",
              "total   3    89 122.65169 37.88232 128    124.76712 40.0302 35  193 158  \n",
              "        skew       kurtosis   se      \n",
              "midterm -0.3968489 -0.6559548 2.020392\n",
              "final   -0.5054800 -0.5121913 2.553327\n",
              "total   -0.4486563 -0.6932943 4.015518"
            ],
            "text/latex": "A psych: 3 × 13\n\\begin{tabular}{r|lllllllllllll}\n  & vars & n & mean & sd & median & trimmed & mad & min & max & range & skew & kurtosis & se\\\\\n  & <int> & <dbl> & <dbl> & <dbl> & <dbl> & <dbl> & <dbl> & <dbl> & <dbl> & <dbl> & <dbl> & <dbl> & <dbl>\\\\\n\\hline\n\tmidterm & 1 & 89 &  66.89888 & 19.06034 &  71 &  67.84932 & 19.2738 & 22 & 100 &  78 & -0.3968489 & -0.6559548 & 2.020392\\\\\n\tfinal & 2 & 89 &  55.75281 & 24.08804 &  55 &  57.45205 & 25.2042 &  0 &  93 &  93 & -0.5054800 & -0.5121913 & 2.553327\\\\\n\ttotal & 3 & 89 & 122.65169 & 37.88232 & 128 & 124.76712 & 40.0302 & 35 & 193 & 158 & -0.4486563 & -0.6932943 & 4.015518\\\\\n\\end{tabular}\n",
            "text/markdown": "\nA psych: 3 × 13\n\n| <!--/--> | vars &lt;int&gt; | n &lt;dbl&gt; | mean &lt;dbl&gt; | sd &lt;dbl&gt; | median &lt;dbl&gt; | trimmed &lt;dbl&gt; | mad &lt;dbl&gt; | min &lt;dbl&gt; | max &lt;dbl&gt; | range &lt;dbl&gt; | skew &lt;dbl&gt; | kurtosis &lt;dbl&gt; | se &lt;dbl&gt; |\n|---|---|---|---|---|---|---|---|---|---|---|---|---|---|\n| midterm | 1 | 89 |  66.89888 | 19.06034 |  71 |  67.84932 | 19.2738 | 22 | 100 |  78 | -0.3968489 | -0.6559548 | 2.020392 |\n| final | 2 | 89 |  55.75281 | 24.08804 |  55 |  57.45205 | 25.2042 |  0 |  93 |  93 | -0.5054800 | -0.5121913 | 2.553327 |\n| total | 3 | 89 | 122.65169 | 37.88232 | 128 | 124.76712 | 40.0302 | 35 | 193 | 158 | -0.4486563 | -0.6932943 | 4.015518 |\n\n",
            "text/html": [
              "<table>\n",
              "<caption>A psych: 3 × 13</caption>\n",
              "<thead>\n",
              "\t<tr><th></th><th scope=col>vars</th><th scope=col>n</th><th scope=col>mean</th><th scope=col>sd</th><th scope=col>median</th><th scope=col>trimmed</th><th scope=col>mad</th><th scope=col>min</th><th scope=col>max</th><th scope=col>range</th><th scope=col>skew</th><th scope=col>kurtosis</th><th scope=col>se</th></tr>\n",
              "\t<tr><th></th><th scope=col>&lt;int&gt;</th><th scope=col>&lt;dbl&gt;</th><th scope=col>&lt;dbl&gt;</th><th scope=col>&lt;dbl&gt;</th><th scope=col>&lt;dbl&gt;</th><th scope=col>&lt;dbl&gt;</th><th scope=col>&lt;dbl&gt;</th><th scope=col>&lt;dbl&gt;</th><th scope=col>&lt;dbl&gt;</th><th scope=col>&lt;dbl&gt;</th><th scope=col>&lt;dbl&gt;</th><th scope=col>&lt;dbl&gt;</th><th scope=col>&lt;dbl&gt;</th></tr>\n",
              "</thead>\n",
              "<tbody>\n",
              "\t<tr><th scope=row>midterm</th><td>1</td><td>89</td><td> 66.89888</td><td>19.06034</td><td> 71</td><td> 67.84932</td><td>19.2738</td><td>22</td><td>100</td><td> 78</td><td>-0.3968489</td><td>-0.6559548</td><td>2.020392</td></tr>\n",
              "\t<tr><th scope=row>final</th><td>2</td><td>89</td><td> 55.75281</td><td>24.08804</td><td> 55</td><td> 57.45205</td><td>25.2042</td><td> 0</td><td> 93</td><td> 93</td><td>-0.5054800</td><td>-0.5121913</td><td>2.553327</td></tr>\n",
              "\t<tr><th scope=row>total</th><td>3</td><td>89</td><td>122.65169</td><td>37.88232</td><td>128</td><td>124.76712</td><td>40.0302</td><td>35</td><td>193</td><td>158</td><td>-0.4486563</td><td>-0.6932943</td><td>4.015518</td></tr>\n",
              "</tbody>\n",
              "</table>\n"
            ]
          },
          "metadata": {
            "tags": []
          }
        },
        {
          "output_type": "display_data",
          "data": {
            "text/plain": [
              " [1] \"vars\"     \"n\"        \"mean\"     \"sd\"       \"median\"   \"trimmed\" \n",
              " [7] \"mad\"      \"min\"      \"max\"      \"range\"    \"skew\"     \"kurtosis\"\n",
              "[13] \"se\"      "
            ],
            "text/latex": "\\begin{enumerate*}\n\\item 'vars'\n\\item 'n'\n\\item 'mean'\n\\item 'sd'\n\\item 'median'\n\\item 'trimmed'\n\\item 'mad'\n\\item 'min'\n\\item 'max'\n\\item 'range'\n\\item 'skew'\n\\item 'kurtosis'\n\\item 'se'\n\\end{enumerate*}\n",
            "text/markdown": "1. 'vars'\n2. 'n'\n3. 'mean'\n4. 'sd'\n5. 'median'\n6. 'trimmed'\n7. 'mad'\n8. 'min'\n9. 'max'\n10. 'range'\n11. 'skew'\n12. 'kurtosis'\n13. 'se'\n\n\n",
            "text/html": [
              "<style>\n",
              ".list-inline {list-style: none; margin:0; padding: 0}\n",
              ".list-inline>li {display: inline-block}\n",
              ".list-inline>li:not(:last-child)::after {content: \"\\00b7\"; padding: 0 .5ex}\n",
              "</style>\n",
              "<ol class=list-inline><li>'vars'</li><li>'n'</li><li>'mean'</li><li>'sd'</li><li>'median'</li><li>'trimmed'</li><li>'mad'</li><li>'min'</li><li>'max'</li><li>'range'</li><li>'skew'</li><li>'kurtosis'</li><li>'se'</li></ol>\n"
            ]
          },
          "metadata": {
            "tags": []
          }
        }
      ]
    }
  ]
}