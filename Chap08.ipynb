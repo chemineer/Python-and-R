{
  "nbformat": 4,
  "nbformat_minor": 0,
  "metadata": {
    "colab": {
      "name": "Untitled5.ipynb",
      "provenance": [],
      "authorship_tag": "ABX9TyNqY1XUfHZnLbAy/CCUAa7x",
      "include_colab_link": true
    },
    "kernelspec": {
      "name": "python3",
      "display_name": "Python 3"
    }
  },
  "cells": [
    {
      "cell_type": "markdown",
      "metadata": {
        "id": "view-in-github",
        "colab_type": "text"
      },
      "source": [
        "<a href=\"https://colab.research.google.com/github/chemineer/Python-and-R/blob/main/Chap08.ipynb\" target=\"_parent\"><img src=\"https://colab.research.google.com/assets/colab-badge.svg\" alt=\"Open In Colab\"/></a>"
      ]
    },
    {
      "cell_type": "code",
      "metadata": {
        "colab": {
          "base_uri": "https://localhost:8080/"
        },
        "id": "WjIVg6LKeMkv",
        "outputId": "b34ff9db-78ef-4b23-beb2-92184649819d"
      },
      "source": [
        "import numpy as np\n",
        "import pandas as pd\n",
        "import matplotlib.pyplot as plt\n",
        "\n",
        "score=pd.read_csv('https://raw.githubusercontent.com/chemineer/Python-and-R/main/score.csv')\n",
        "score.head()\n",
        "score.shape\n",
        "\n",
        "score[\"total\"]=score[\"midterm\"]+score[\"final\"]\n",
        "score.head(3)\n",
        "score['total'].mean()\n",
        "score['total'].std()\n",
        "score['total'].median()\n",
        "score['total'].quantile(0.75)"
      ],
      "execution_count": 5,
      "outputs": [
        {
          "output_type": "execute_result",
          "data": {
            "text/plain": [
              "154.0"
            ]
          },
          "metadata": {
            "tags": []
          },
          "execution_count": 5
        }
      ]
    },
    {
      "cell_type": "code",
      "metadata": {
        "colab": {
          "base_uri": "https://localhost:8080/"
        },
        "id": "R2VSKYcHfejO",
        "outputId": "3aca1535-582c-4603-8530-073c40d39fb5"
      },
      "source": [
        "import pandas as pd\n",
        "score=pd.read_csv('https://raw.githubusercontent.com/chemineer/Python-and-R/main/score.csv')\n",
        "score[\"total\"]=score[\"midterm\"]+score[\"final\"]\n",
        "\n",
        "import collections\n",
        "collections.Counter(score['gender'])\n",
        "\n",
        "cols=['midterm','final','total']\n",
        "score2=score[cols]\n",
        "score2.head(3)\n",
        "score2.describe()\n",
        "\n",
        "from scipy.stats import skew\n",
        "skew(score2)\n",
        "\n",
        "from scipy.stats import kurtosis\n",
        "kurtosis(score2)"
      ],
      "execution_count": 10,
      "outputs": [
        {
          "output_type": "execute_result",
          "data": {
            "text/plain": [
              "array([-0.60237839, -0.4553289 , -0.64057126])"
            ]
          },
          "metadata": {
            "tags": []
          },
          "execution_count": 10
        }
      ]
    }
  ]
}