{
  "nbformat": 4,
  "nbformat_minor": 0,
  "metadata": {
    "colab": {
      "name": "Untitled5.ipynb",
      "provenance": [],
      "authorship_tag": "ABX9TyNmnFZbfxIb9Z0Pjllve8In",
      "include_colab_link": true
    },
    "kernelspec": {
      "name": "python3",
      "display_name": "Python 3"
    }
  },
  "cells": [
    {
      "cell_type": "markdown",
      "metadata": {
        "id": "view-in-github",
        "colab_type": "text"
      },
      "source": [
        "<a href=\"https://colab.research.google.com/github/chemineer/Python-and-R/blob/main/Chap08.ipynb\" target=\"_parent\"><img src=\"https://colab.research.google.com/assets/colab-badge.svg\" alt=\"Open In Colab\"/></a>"
      ]
    },
    {
      "cell_type": "code",
      "metadata": {
        "colab": {
          "base_uri": "https://localhost:8080/"
        },
        "id": "WjIVg6LKeMkv",
        "outputId": "b34ff9db-78ef-4b23-beb2-92184649819d"
      },
      "source": [
        "import numpy as np\n",
        "import pandas as pd\n",
        "import matplotlib.pyplot as plt\n",
        "\n",
        "score=pd.read_csv('https://raw.githubusercontent.com/chemineer/Python-and-R/main/score.csv')\n",
        "score.head()\n",
        "score.shape\n",
        "\n",
        "score[\"total\"]=score[\"midterm\"]+score[\"final\"]\n",
        "score.head(3)\n",
        "score['total'].mean()\n",
        "score['total'].std()\n",
        "score['total'].median()\n",
        "score['total'].quantile(0.75)"
      ],
      "execution_count": null,
      "outputs": [
        {
          "output_type": "execute_result",
          "data": {
            "text/plain": [
              "154.0"
            ]
          },
          "metadata": {
            "tags": []
          },
          "execution_count": 5
        }
      ]
    },
    {
      "cell_type": "code",
      "metadata": {
        "colab": {
          "base_uri": "https://localhost:8080/"
        },
        "id": "R2VSKYcHfejO",
        "outputId": "3aca1535-582c-4603-8530-073c40d39fb5"
      },
      "source": [
        "import pandas as pd\n",
        "score=pd.read_csv('https://raw.githubusercontent.com/chemineer/Python-and-R/main/score.csv')\n",
        "score[\"total\"]=score[\"midterm\"]+score[\"final\"]\n",
        "\n",
        "import collections\n",
        "collections.Counter(score['gender'])\n",
        "\n",
        "cols=['midterm','final','total']\n",
        "score2=score[cols]\n",
        "score2.head(3)\n",
        "score2.describe()\n",
        "\n",
        "from scipy.stats import skew\n",
        "skew(score2)\n",
        "\n",
        "from scipy.stats import kurtosis\n",
        "kurtosis(score2)"
      ],
      "execution_count": null,
      "outputs": [
        {
          "output_type": "execute_result",
          "data": {
            "text/plain": [
              "array([-0.60237839, -0.4553289 , -0.64057126])"
            ]
          },
          "metadata": {
            "tags": []
          },
          "execution_count": 10
        }
      ]
    },
    {
      "cell_type": "code",
      "metadata": {
        "colab": {
          "base_uri": "https://localhost:8080/"
        },
        "id": "ScBxI9DrlSAV",
        "outputId": "3894cfd9-011a-4da9-dee2-73feb9beef58"
      },
      "source": [
        "import pandas as pd\n",
        "score=pd.read_csv('https://raw.githubusercontent.com/chemineer/Python-and-R/main/score.csv')\n",
        "score[\"total\"]=score[\"midterm\"]+score[\"final\"]\n",
        "gstat=score.groupby(\"gender\")['total'].describe()\n",
        "gstat\n",
        "gstat[\"mean\"]\n",
        "gstat[\"std\"]\n",
        "gstat[\"25%\"]\n",
        "\n",
        "gstat_total=score.groupby(\"gender\")['total']\n",
        "gstat_total.agg(['size','mean','std','min','max'])\n",
        "\n",
        "gresult=gstat_total.agg(['size','mean','std','min','max'])\n",
        "gresult.loc['f']\n",
        "gresult.loc['m']"
      ],
      "execution_count": 7,
      "outputs": [
        {
          "output_type": "execute_result",
          "data": {
            "text/plain": [
              "size     54.000000\n",
              "mean    122.574074\n",
              "std      40.351101\n",
              "min      36.000000\n",
              "max     193.000000\n",
              "Name: m, dtype: float64"
            ]
          },
          "metadata": {
            "tags": []
          },
          "execution_count": 7
        }
      ]
    },
    {
      "cell_type": "code",
      "metadata": {
        "colab": {
          "base_uri": "https://localhost:8080/"
        },
        "id": "YtYh80uBnC9R",
        "outputId": "376ae7f9-fcb0-4f0a-9216-40094812b295"
      },
      "source": [
        "#!pip install researchpy\n",
        "\n",
        "import researchpy as rp\n",
        "import pandas as pd\n",
        "\n",
        "score=pd.read_csv('https://raw.githubusercontent.com/chemineer/Python-and-R/main/score.csv')\n",
        "score[\"total\"]=score[\"midterm\"]+score[\"final\"]\n",
        "\n",
        "rp.summary_cont(score['total'])\n",
        "rp.summary_cont(score.groupby(['gender'])['total'])\n",
        "\n",
        "a=rp.summary_cont(score.groupby(['gender'])['total'])\n",
        "a['Mean']"
      ],
      "execution_count": 12,
      "outputs": [
        {
          "output_type": "stream",
          "text": [
            "\n",
            "\n",
            "\n",
            "\n",
            "\n",
            "\n"
          ],
          "name": "stdout"
        },
        {
          "output_type": "execute_result",
          "data": {
            "text/plain": [
              "gender\n",
              "f    122.7714\n",
              "m    122.5741\n",
              "Name: Mean, dtype: float64"
            ]
          },
          "metadata": {
            "tags": []
          },
          "execution_count": 12
        }
      ]
    },
    {
      "cell_type": "code",
      "metadata": {
        "id": "hb8cDkyntO4A",
        "outputId": "3f96741c-9f8d-4fec-f1a3-388336892861",
        "colab": {
          "base_uri": "https://localhost:8080/",
          "height": 288
        }
      },
      "source": [
        "#!pip install stemgraphic\n",
        "\n",
        "import pandas as pd\n",
        "import stemgraphic\n",
        "import seaborn as sns\n",
        "\n",
        "score=pd.read_csv('https://raw.githubusercontent.com/chemineer/Python-and-R/main/score.csv')\n",
        "score[\"total\"]=score[\"midterm\"]+score[\"final\"]\n",
        "\n",
        "#stemgraphic.stem_graphic(score.total,scale=10)\n",
        "\n",
        "sns.set(style=\"whitegrid\")\n",
        "#sns.boxplot(x=\"total\",data=score)\n",
        "#sns.boxplot(y=\"total\",data=score)\n",
        "scorebox=sns.boxplot(x=\"gender\",y=\"total\",data=score)"
      ],
      "execution_count": 21,
      "outputs": [
        {
          "output_type": "display_data",
          "data": {
            "image/png": "[encoded data removed]",
            "text/plain": [
              "<Figure size 432x288 with 1 Axes>"
            ]
          },
          "metadata": {
            "tags": []
          }
        }
      ]
    },
    {
      "cell_type": "code",
      "metadata": {
        "id": "T-IOMcm_vbzK",
        "outputId": "795c5fd5-d819-4157-af97-b74b7fddc2f2",
        "colab": {
          "base_uri": "https://localhost:8080/",
          "height": 284
        }
      },
      "source": [
        "import pandas as pd\n",
        "import seaborn as sns\n",
        "import matplotlib.pyplot as plt\n",
        "\n",
        "score=pd.read_csv('https://raw.githubusercontent.com/chemineer/Python-and-R/main/score.csv')\n",
        "score[\"total\"]=score[\"midterm\"]+score[\"final\"]\n",
        "plt.hist(score.total)\n",
        "\n",
        "ftotal=score.loc[score.gender=='f','total']\n",
        "mtotal=score.loc[score.gender=='m','total']\n",
        "\n",
        "args=dict(alpha=0.5,bins=10)\n",
        "plt.hist(ftotal,**args,color='b',label='female')\n",
        "plt.hist(mtotal,**args,color='r',label='male')\n",
        "plt.gca().set(title='Frequency Histogram of Score.total',ylabel='Frequency')\n",
        "plt.legend()\n",
        "plt.show()"
      ],
      "execution_count": 23,
      "outputs": [
        {
          "output_type": "display_data",
          "data": {
            "image/png": "[encoded data removed]",
            "text/plain": [
              "<Figure size 432x288 with 1 Axes>"
            ]
          },
          "metadata": {
            "tags": []
          }
        }
      ]
    }
  ]
}