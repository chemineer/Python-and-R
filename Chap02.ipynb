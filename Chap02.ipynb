{
  "nbformat": 4,
  "nbformat_minor": 0,
  "metadata": {
    "colab": {
      "name": "Untitled8.ipynb",
      "provenance": [],
      "authorship_tag": "ABX9TyNuAoP4S2QGQB9n1dtTmVrR",
      "include_colab_link": true
    },
    "kernelspec": {
      "name": "python3",
      "display_name": "Python 3"
    },
    "language_info": {
      "name": "python"
    }
  },
  "cells": [
    {
      "cell_type": "markdown",
      "metadata": {
        "id": "view-in-github",
        "colab_type": "text"
      },
      "source": [
        "<a href=\"https://colab.research.google.com/github/chemineer/Python-and-R/blob/main/Chap02.ipynb\" target=\"_parent\"><img src=\"https://colab.research.google.com/assets/colab-badge.svg\" alt=\"Open In Colab\"/></a>"
      ]
    },
    {
      "cell_type": "code",
      "metadata": {
        "id": "AUF1QiQ7uPDJ",
        "colab": {
          "base_uri": "https://localhost:8080/"
        },
        "outputId": "72cc5dec-b21b-42ac-8198-1c9e88384274"
      },
      "source": [
        "2+3/2"
      ],
      "execution_count": 1,
      "outputs": [
        {
          "output_type": "execute_result",
          "data": {
            "text/plain": [
              "3.5"
            ]
          },
          "metadata": {
            "tags": []
          },
          "execution_count": 1
        }
      ]
    },
    {
      "cell_type": "code",
      "metadata": {
        "colab": {
          "base_uri": "https://localhost:8080/"
        },
        "id": "StTD6oALvEDn",
        "outputId": "60eb9767-b4a0-477a-c9dd-690252e7d2bd"
      },
      "source": [
        "2**10"
      ],
      "execution_count": 2,
      "outputs": [
        {
          "output_type": "execute_result",
          "data": {
            "text/plain": [
              "1024"
            ]
          },
          "metadata": {
            "tags": []
          },
          "execution_count": 2
        }
      ]
    },
    {
      "cell_type": "code",
      "metadata": {
        "colab": {
          "base_uri": "https://localhost:8080/"
        },
        "id": "X17_ex5yvOW4",
        "outputId": "611d77fc-0cef-482b-9e55-d9c4d29553f1"
      },
      "source": [
        "a=10\n",
        "print(a)\n",
        "a*2+3"
      ],
      "execution_count": 5,
      "outputs": [
        {
          "output_type": "stream",
          "text": [
            "10\n"
          ],
          "name": "stdout"
        },
        {
          "output_type": "execute_result",
          "data": {
            "text/plain": [
              "23"
            ]
          },
          "metadata": {
            "tags": []
          },
          "execution_count": 5
        }
      ]
    },
    {
      "cell_type": "code",
      "metadata": {
        "colab": {
          "base_uri": "https://localhost:8080/"
        },
        "id": "i1Ybw_CmyA0e",
        "outputId": "467b57f2-6374-4b5d-873f-6db1c54549cf"
      },
      "source": [
        "a=10\n",
        "b=5\n",
        "print(a//b)"
      ],
      "execution_count": 6,
      "outputs": [
        {
          "output_type": "stream",
          "text": [
            "2\n"
          ],
          "name": "stdout"
        }
      ]
    },
    {
      "cell_type": "code",
      "metadata": {
        "colab": {
          "base_uri": "https://localhost:8080/"
        },
        "id": "M0mFv0WsyxhK",
        "outputId": "857fd120-9f73-45a5-9efa-9dcad1ad35aa"
      },
      "source": [
        "type(100)\n",
        "type(100.1)"
      ],
      "execution_count": 9,
      "outputs": [
        {
          "output_type": "execute_result",
          "data": {
            "text/plain": [
              "float"
            ]
          },
          "metadata": {
            "tags": []
          },
          "execution_count": 9
        }
      ]
    },
    {
      "cell_type": "code",
      "metadata": {
        "id": "JaXb4EfM2-pB",
        "outputId": "7bb63737-019b-478d-9436-bf089ba926f1",
        "colab": {
          "base_uri": "https://localhost:8080/"
        }
      },
      "source": [
        "import numpy as np\n",
        "a=np.arange(15)\n",
        "m=np.mean(a)\n",
        "print(m)"
      ],
      "execution_count": 10,
      "outputs": [
        {
          "output_type": "stream",
          "text": [
            "7.0\n"
          ],
          "name": "stdout"
        }
      ]
    },
    {
      "cell_type": "code",
      "metadata": {
        "id": "DQ1A-R-c4Cs4",
        "outputId": "4e90bb6b-1f16-4197-cbbe-7b5bee70c32d",
        "colab": {
          "base_uri": "https://localhost:8080/"
        }
      },
      "source": [
        "import numpy as np\n",
        "height=np.array([45,75,60,51,np.nan])\n",
        "m=np.nanmean(height)\n",
        "print(m)"
      ],
      "execution_count": 11,
      "outputs": [
        {
          "output_type": "stream",
          "text": [
            "57.75\n"
          ],
          "name": "stdout"
        }
      ]
    }
  ]
}