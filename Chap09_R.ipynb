{
  "nbformat": 4,
  "nbformat_minor": 0,
  "metadata": {
    "colab": {
      "name": "Untitled4.ipynb",
      "provenance": [],
      "authorship_tag": "ABX9TyNrO0r/OnVCZkwNQPB3Z8J0",
      "include_colab_link": true
    },
    "kernelspec": {
      "name": "ir",
      "display_name": "R"
    }
  },
  "cells": [
    {
      "cell_type": "markdown",
      "metadata": {
        "id": "view-in-github",
        "colab_type": "text"
      },
      "source": [
        "<a href=\"https://colab.research.google.com/github/chemineer/Python-and-R/blob/main/Chap09_R.ipynb\" target=\"_parent\"><img src=\"https://colab.research.google.com/assets/colab-badge.svg\" alt=\"Open In Colab\"/></a>"
      ]
    },
    {
      "cell_type": "code",
      "metadata": {
        "colab": {
          "base_uri": "https://localhost:8080/",
          "height": 304
        },
        "id": "vyQ5YQTBY_Rc",
        "outputId": "9825dd5c-b9fd-411a-be69-2499df644773"
      },
      "source": [
        "score=read.csv('https://raw.githubusercontent.com/chemineer/Python-and-R/main/score.csv',header=T)\n",
        "head(score,3)\n",
        "dim(score)\n",
        "score$total=score$midterm + score$final\n",
        "head(score,3)\n",
        "sapply(score[,-c(1:2)],mean,na.rm=TRUE)\n",
        "sapply(score[,-c(1:2)],sd,na.rm=TRUE)"
      ],
      "execution_count": 4,
      "outputs": [
        {
          "output_type": "display_data",
          "data": {
            "text/plain": [
              "  id    gender midterm final\n",
              "1 13001 f      60      80   \n",
              "2 13003 m      90      72   \n",
              "3 13013 m      76      85   "
            ],
            "text/latex": "A data.frame: 3 × 4\n\\begin{tabular}{r|llll}\n  & id & gender & midterm & final\\\\\n  & <int> & <chr> & <int> & <int>\\\\\n\\hline\n\t1 & 13001 & f & 60 & 80\\\\\n\t2 & 13003 & m & 90 & 72\\\\\n\t3 & 13013 & m & 76 & 85\\\\\n\\end{tabular}\n",
            "text/markdown": "\nA data.frame: 3 × 4\n\n| <!--/--> | id &lt;int&gt; | gender &lt;chr&gt; | midterm &lt;int&gt; | final &lt;int&gt; |\n|---|---|---|---|---|\n| 1 | 13001 | f | 60 | 80 |\n| 2 | 13003 | m | 90 | 72 |\n| 3 | 13013 | m | 76 | 85 |\n\n",
            "text/html": [
              "<table>\n",
              "<caption>A data.frame: 3 × 4</caption>\n",
              "<thead>\n",
              "\t<tr><th></th><th scope=col>id</th><th scope=col>gender</th><th scope=col>midterm</th><th scope=col>final</th></tr>\n",
              "\t<tr><th></th><th scope=col>&lt;int&gt;</th><th scope=col>&lt;chr&gt;</th><th scope=col>&lt;int&gt;</th><th scope=col>&lt;int&gt;</th></tr>\n",
              "</thead>\n",
              "<tbody>\n",
              "\t<tr><th scope=row>1</th><td>13001</td><td>f</td><td>60</td><td>80</td></tr>\n",
              "\t<tr><th scope=row>2</th><td>13003</td><td>m</td><td>90</td><td>72</td></tr>\n",
              "\t<tr><th scope=row>3</th><td>13013</td><td>m</td><td>76</td><td>85</td></tr>\n",
              "</tbody>\n",
              "</table>\n"
            ]
          },
          "metadata": {
            "tags": []
          }
        },
        {
          "output_type": "display_data",
          "data": {
            "text/plain": [
              "[1] 89  4"
            ],
            "text/latex": "\\begin{enumerate*}\n\\item 89\n\\item 4\n\\end{enumerate*}\n",
            "text/markdown": "1. 89\n2. 4\n\n\n",
            "text/html": [
              "<style>\n",
              ".list-inline {list-style: none; margin:0; padding: 0}\n",
              ".list-inline>li {display: inline-block}\n",
              ".list-inline>li:not(:last-child)::after {content: \"\\00b7\"; padding: 0 .5ex}\n",
              "</style>\n",
              "<ol class=list-inline><li>89</li><li>4</li></ol>\n"
            ]
          },
          "metadata": {
            "tags": []
          }
        },
        {
          "output_type": "display_data",
          "data": {
            "text/plain": [
              "  id    gender midterm final total\n",
              "1 13001 f      60      80    140  \n",
              "2 13003 m      90      72    162  \n",
              "3 13013 m      76      85    161  "
            ],
            "text/latex": "A data.frame: 3 × 5\n\\begin{tabular}{r|lllll}\n  & id & gender & midterm & final & total\\\\\n  & <int> & <chr> & <int> & <int> & <int>\\\\\n\\hline\n\t1 & 13001 & f & 60 & 80 & 140\\\\\n\t2 & 13003 & m & 90 & 72 & 162\\\\\n\t3 & 13013 & m & 76 & 85 & 161\\\\\n\\end{tabular}\n",
            "text/markdown": "\nA data.frame: 3 × 5\n\n| <!--/--> | id &lt;int&gt; | gender &lt;chr&gt; | midterm &lt;int&gt; | final &lt;int&gt; | total &lt;int&gt; |\n|---|---|---|---|---|---|\n| 1 | 13001 | f | 60 | 80 | 140 |\n| 2 | 13003 | m | 90 | 72 | 162 |\n| 3 | 13013 | m | 76 | 85 | 161 |\n\n",
            "text/html": [
              "<table>\n",
              "<caption>A data.frame: 3 × 5</caption>\n",
              "<thead>\n",
              "\t<tr><th></th><th scope=col>id</th><th scope=col>gender</th><th scope=col>midterm</th><th scope=col>final</th><th scope=col>total</th></tr>\n",
              "\t<tr><th></th><th scope=col>&lt;int&gt;</th><th scope=col>&lt;chr&gt;</th><th scope=col>&lt;int&gt;</th><th scope=col>&lt;int&gt;</th><th scope=col>&lt;int&gt;</th></tr>\n",
              "</thead>\n",
              "<tbody>\n",
              "\t<tr><th scope=row>1</th><td>13001</td><td>f</td><td>60</td><td>80</td><td>140</td></tr>\n",
              "\t<tr><th scope=row>2</th><td>13003</td><td>m</td><td>90</td><td>72</td><td>162</td></tr>\n",
              "\t<tr><th scope=row>3</th><td>13013</td><td>m</td><td>76</td><td>85</td><td>161</td></tr>\n",
              "</tbody>\n",
              "</table>\n"
            ]
          },
          "metadata": {
            "tags": []
          }
        },
        {
          "output_type": "display_data",
          "data": {
            "text/plain": [
              "  midterm     final     total \n",
              " 66.89888  55.75281 122.65169 "
            ],
            "text/latex": "\\begin{description*}\n\\item[midterm] 66.8988764044944\n\\item[final] 55.752808988764\n\\item[total] 122.651685393258\n\\end{description*}\n",
            "text/markdown": "midterm\n:   66.8988764044944final\n:   55.752808988764total\n:   122.651685393258\n\n",
            "text/html": [
              "<style>\n",
              ".dl-inline {width: auto; margin:0; padding: 0}\n",
              ".dl-inline>dt, .dl-inline>dd {float: none; width: auto; display: inline-block}\n",
              ".dl-inline>dt::after {content: \":\\0020\"; padding-right: .5ex}\n",
              ".dl-inline>dt:not(:first-of-type) {padding-left: .5ex}\n",
              "</style><dl class=dl-inline><dt>midterm</dt><dd>66.8988764044944</dd><dt>final</dt><dd>55.752808988764</dd><dt>total</dt><dd>122.651685393258</dd></dl>\n"
            ]
          },
          "metadata": {
            "tags": []
          }
        },
        {
          "output_type": "display_data",
          "data": {
            "text/plain": [
              " midterm    final    total \n",
              "19.06034 24.08804 37.88232 "
            ],
            "text/latex": "\\begin{description*}\n\\item[midterm] 19.0603377723459\n\\item[final] 24.0880397042318\n\\item[total] 37.8823241114074\n\\end{description*}\n",
            "text/markdown": "midterm\n:   19.0603377723459final\n:   24.0880397042318total\n:   37.8823241114074\n\n",
            "text/html": [
              "<style>\n",
              ".dl-inline {width: auto; margin:0; padding: 0}\n",
              ".dl-inline>dt, .dl-inline>dd {float: none; width: auto; display: inline-block}\n",
              ".dl-inline>dt::after {content: \":\\0020\"; padding-right: .5ex}\n",
              ".dl-inline>dt:not(:first-of-type) {padding-left: .5ex}\n",
              "</style><dl class=dl-inline><dt>midterm</dt><dd>19.0603377723459</dd><dt>final</dt><dd>24.0880397042318</dd><dt>total</dt><dd>37.8823241114074</dd></dl>\n"
            ]
          },
          "metadata": {
            "tags": []
          }
        }
      ]
    }
  ]
}